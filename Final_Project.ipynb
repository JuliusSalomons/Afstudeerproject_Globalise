{
 "cells": [
  {
   "cell_type": "markdown",
   "id": "79049f83-5f51-4781-927b-13fb751a5aa1",
   "metadata": {},
   "source": [
    "# **Graph-based Lexical Space for Detecting Chains of Correspondence**\n",
    "\n",
    "By: Julius Salomons <br>\n",
    "Start Date: April 2025"
   ]
  },
  {
   "cell_type": "code",
   "execution_count": 150,
   "id": "4396c6a2-7710-43ad-a6d1-bf9c328dd429",
   "metadata": {},
   "outputs": [],
   "source": [
    "# Important libraries used throughout the project\n",
    "import numpy as np\n",
    "import pandas as pd\n",
    "\n",
    "# Used in visualize_sentence_graph() to plot the graph of sentence similarity with NetworkX visualization.\n",
    "import matplotlib\n",
    "import matplotlib.pyplot as plt \n",
    "\n",
    "# Used in visualize_sentence_graph() to create and layout the graph of sentence similarity.\n",
    "import networkx as nx\n",
    "import plotly.graph_objects as go\n",
    "\n",
    "# Used in to split text into sentences by punctuation\n",
    "import re\n",
    "\n",
    "# Used for logarithmic calculations such as IDF and BM25 implementations.\n",
    "import math\n",
    "\n",
    "# Used for token frequency counting in TF computation and BM25 frequency counts.\n",
    "from collections import Counter\n",
    "\n",
    "# Used to check if transcription CSV files exist and to construct paths dynamically\n",
    "import os\n",
    "\n",
    "# Used to get stopwords set\n",
    "import nltk\n",
    "from nltk.corpus import stopwords\n",
    "\n",
    "\n",
    "# nltk.download('stopwords')\n",
    "# stop_words = set(stopwords.words('dutch'))"
   ]
  },
  {
   "cell_type": "markdown",
   "id": "c7091f95-6110-440f-a28b-b8bccce50c9c",
   "metadata": {},
   "source": [
    "# **Method**\n",
    "\n",
    "1. LexRank\n",
    "2. TF-IDF\n",
    "3. Visualization (graph based)"
   ]
  },
  {
   "cell_type": "markdown",
   "id": "d22e77aa-e1da-4845-9fd7-326db92b4288",
   "metadata": {},
   "source": [
    "# **Part 1: LexRank Summarization**\n",
    "\n",
    "**Usage:**  \n",
    "`summary = lexrank_summarize(missive_text, num_sentences=num_sentences_to_extract)`\n",
    "\n",
    "**Input:**  \n",
    "`missive_text` is the text you want to summarize.  \n",
    "For example, to extract the first missive (`missive_001`) from the dataset:\n",
    "\n",
    "```python\n",
    "df_generale_missive = pd.read_csv('GaLAHaD_missive_partial_translation.csv')  \n",
    "missive_text = str(df_generale_missive.loc[0, 'text'])\n",
    "\n"
   ]
  },
  {
   "cell_type": "code",
   "execution_count": 151,
   "id": "fb0e0799-3b73-4781-b2ed-34c366a26ffd",
   "metadata": {},
   "outputs": [],
   "source": [
    "def split_sentences(text):\n",
    "    return [s.strip() for s in re.split(r'[.!?]\\s+', text) if s.strip()]\n",
    "\n",
    "def tokenize(text):\n",
    "    return re.findall(r'\\b\\w+\\b', text.lower())\n",
    "\n",
    "def compute_tf(sentences_tokens):\n",
    "    tf_list = []\n",
    "    for tokens in sentences_tokens:\n",
    "        count = Counter(tokens)\n",
    "        total = len(tokens)\n",
    "        tf_list.append({word: count[word] / total for word in count})\n",
    "    return tf_list\n",
    "\n",
    "def compute_idf(sentences_tokens):\n",
    "    N = len(sentences_tokens)\n",
    "    all_tokens = set(token for tokens in sentences_tokens for token in tokens)\n",
    "    idf = {}\n",
    "    for token in all_tokens:\n",
    "        df = sum(1 for tokens in sentences_tokens if token in tokens)\n",
    "        idf[token] = math.log((N + 1) / (df + 1)) + 1\n",
    "    return idf\n",
    "\n",
    "def compute_tfidf(tf_list, idf_dict):\n",
    "    vocab = list(idf_dict.keys())\n",
    "    tfidf_vectors = []\n",
    "    for tf in tf_list:\n",
    "        vector = np.array([tf.get(word, 0) * idf_dict[word] for word in vocab])\n",
    "        tfidf_vectors.append(vector)\n",
    "    return np.array(tfidf_vectors)\n",
    "\n",
    "def cosine_sim_matrix(tfidf_vectors):\n",
    "    norm = np.linalg.norm(tfidf_vectors, axis=1, keepdims=True)\n",
    "    norm[norm == 0] = 1\n",
    "    normed = tfidf_vectors / norm\n",
    "    return np.dot(normed, normed.T)\n",
    "\n",
    "def pagerank(sim_matrix, damping=0.85, max_iter=100, tol=1e-6):\n",
    "    n = sim_matrix.shape[0]\n",
    "    scores = np.ones(n) / n\n",
    "    for _ in range(max_iter):\n",
    "        prev_scores = scores.copy()\n",
    "        for i in range(n):\n",
    "            incoming = sim_matrix[:, i]\n",
    "            total_score = np.sum(incoming * prev_scores)\n",
    "            scores[i] = (1 - damping) / n + damping * total_score\n",
    "        if np.linalg.norm(scores - prev_scores, ord=1) < tol:\n",
    "            break\n",
    "    return scores\n",
    "\n",
    "def lexrank_summarize(text, num_sentences=5):\n",
    "    sentences = split_sentences(text)\n",
    "    if len(sentences) <= num_sentences:\n",
    "        return sentences\n",
    "\n",
    "    tokens_list = [tokenize(sentence) for sentence in sentences]\n",
    "    tf = compute_tf(tokens_list)\n",
    "    idf = compute_idf(tokens_list)\n",
    "    tfidf_vectors = compute_tfidf(tf, idf)\n",
    "\n",
    "    sim_matrix = cosine_sim_matrix(tfidf_vectors)\n",
    "    row_sums = sim_matrix.sum(axis=1, keepdims=True)\n",
    "    row_sums[row_sums == 0] = 1\n",
    "    stochastic_matrix = sim_matrix / row_sums\n",
    "\n",
    "    scores = pagerank(stochastic_matrix)\n",
    "    ranked = sorted(zip(scores, sentences), reverse=True)\n",
    "    summary = [s for _, s in ranked[:num_sentences]]\n",
    "    return summary\n",
    "\n",
    "# Only used to inspect the output of the model\n",
    "def visualize_sentence_graph(sentences, sim_matrix, total_sentences=None, num_nodes=10, threshold=0.1, force_edges=True):\n",
    "    # Limit to desired number of nodes\n",
    "    sentences = sentences[:num_nodes]\n",
    "    sim_matrix = [row[:num_nodes] for row in sim_matrix[:num_nodes]]\n",
    "\n",
    "    print(\"\\nSentences used in graph:\")\n",
    "    for idx, s in enumerate(sentences):\n",
    "        print(f\"[{idx}] {s}\")\n",
    "\n",
    "    G = nx.Graph()\n",
    "\n",
    "    for i in range(len(sentences)):\n",
    "        G.add_node(i, label=f\"[{i}]\")\n",
    "\n",
    "    for i in range(len(sentences)):\n",
    "        for j in range(i + 1, len(sentences)):\n",
    "            sim = sim_matrix[i][j]\n",
    "            if sim > threshold or (force_edges and sim > 0):\n",
    "                G.add_edge(i, j, weight=sim)\n",
    "\n",
    "    pos = nx.spring_layout(G, seed=42, k=1.2)\n",
    "\n",
    "    plt.figure(figsize=(8, 6))\n",
    "    nx.draw(\n",
    "        G, pos,\n",
    "        with_labels=True,\n",
    "        labels={i: f\"[{i}]\" for i in G.nodes},\n",
    "        node_color='skyblue',\n",
    "        node_size=800,\n",
    "        font_size=9,\n",
    "        font_weight='bold'\n",
    "    )\n",
    "\n",
    "    edge_labels = nx.get_edge_attributes(G, 'weight')\n",
    "    formatted_labels = {k: f\"{v:.2f}\" for k, v in edge_labels.items()}\n",
    "    nx.draw_networkx_edge_labels(G, pos, edge_labels=formatted_labels, font_size=7)\n",
    "\n",
    "    if total_sentences is not None:\n",
    "        title = f\"Sentence Similarity Graph (Top {len(sentences)} Sentences Shown of {total_sentences} Total)\"\n",
    "    else:\n",
    "        title = f\"Sentence Similarity Graph (Top {len(sentences)} Sentences)\"\n",
    "\n",
    "    plt.title(title)\n",
    "    plt.subplots_adjust(left=0.05, right=0.95, top=0.9, bottom=0.05)\n",
    "    plt.show()"
   ]
  },
  {
   "cell_type": "markdown",
   "id": "15b85955-61ac-4eae-bf37-da8b0680725a",
   "metadata": {},
   "source": [
    "## **Part 1.1: LexRank output inspection for file: \"Missive_001_CleanedByHand.txt\"**\n",
    "\n",
    "The output only inspects the data of \"Missive_001_CleanedByHand.txt\", but this can be altered by changing the \"file_path\" variable. \n",
    "\n",
    "**1:** The first cell inspects the output as is.  <br>\n",
    "**2:** The second cell inspects the output as a graph based model by also visualizing the actual methodology"
   ]
  },
  {
   "cell_type": "code",
   "execution_count": 138,
   "id": "53bf7643-94a9-4f55-8946-24b7d1dfea50",
   "metadata": {},
   "outputs": [
    {
     "name": "stdout",
     "output_type": "stream",
     "text": [
      "\n",
      "Top 10 Topic Sentences:\n",
      "\n",
      "1. Dan het schijnen dat zulks beteren voor eerst nog niet te wehen zullen kunnen worden brengen en dat vermits Uwe Edele nu enig jaar achter de ander zo sober equiperen en zo weinig schepen zenden hebben\n",
      "2. Zo hopen dat met de goed schours die toekomend jaar van Uwe Edele te verwachten hebben, zij alsdan met geweld Moluger, Amboijna en Banda wel weren en verdrijven zullen\n",
      "3. Maar alzo het verdrag met de Makassaar de Compagnie doen te veel schadelijk in Amboijna en Banda wezen zullen door de vrij vaart en handel welk de Makassaar in die kwartier zullen pretenderen te doen\n",
      "4. En dat dievolg en bereid zijn te gaan of blijven daar de Generaal Compagnie e van ik goed dikken worden van\n",
      "5. Maar zijn arresteren na naar gebruiken ten du woor en ne de s een document dat voor eerst nog blijven zullen en ons voorder naar gelegenheid van zaak en de tijd reguleren zullen\n",
      "6. De weinig timmerlieden die hier zijn hebben ook de tijd niet om op zijn Spaans water bak te maken\n",
      "7. God geven een dat de Terrataan van zij tegens ons niet oproeien ne worden gelijk met de Bandanes, Ambaires en ander hebben doen\n",
      "8. Inwaarts zijn op verscheiden plaats mede niet weinig zijn te nemen, dan wat van hij doen en wat zullen ik zonder macht doen\n",
      "9. En vallen schepen zijn, zo zullen het wel achteren kunnen blijven door gebrek van justage om water te bergen\n",
      "10. Hier op considereren wezen dat ons de rijs van daar in deze stand wel nodig en ook zeer dienstig zijn\n"
     ]
    }
   ],
   "source": [
    "# Change this to get more or fewer topic sentences\n",
    "num_sentences_to_extract = 10  \n",
    "\n",
    "# Load text and run LexRank\n",
    "file_path = 'Missive_001_CleanedByHand.txt'\n",
    "with open(file_path, 'r', encoding='utf-8') as file:\n",
    "    missive_text = file.read()\n",
    "\n",
    "summary = lexrank_summarize(missive_text, num_sentences=num_sentences_to_extract)\n",
    "\n",
    "# Print summary\n",
    "print(f\"\\nTop {num_sentences_to_extract} Topic Sentences:\\n\")\n",
    "for i, sentence in enumerate(summary, 1):\n",
    "    print(f\"{i}. {sentence}\")"
   ]
  },
  {
   "cell_type": "code",
   "execution_count": 139,
   "id": "5b6b2087-24b1-46ad-a6bc-746e56f2df4b",
   "metadata": {},
   "outputs": [
    {
     "name": "stdout",
     "output_type": "stream",
     "text": [
      "\n",
      "Sentences used in graph:\n",
      "[0] Dan het schijnen dat zulks beteren voor eerst nog niet te wehen zullen kunnen worden brengen en dat vermits Uwe Edele nu enig jaar achter de ander zo sober equiperen en zo weinig schepen zenden hebben\n",
      "[1] Zo hopen dat met de goed schours die toekomend jaar van Uwe Edele te verwachten hebben, zij alsdan met geweld Moluger, Amboijna en Banda wel weren en verdrijven zullen\n",
      "[2] Maar alzo het verdrag met de Makassaar de Compagnie doen te veel schadelijk in Amboijna en Banda wezen zullen door de vrij vaart en handel welk de Makassaar in die kwartier zullen pretenderen te doen\n",
      "[3] En dat dievolg en bereid zijn te gaan of blijven daar de Generaal Compagnie e van ik goed dikken worden van\n",
      "[4] Maar zijn arresteren na naar gebruiken ten du woor en ne de s een document dat voor eerst nog blijven zullen en ons voorder naar gelegenheid van zaak en de tijd reguleren zullen\n",
      "[5] De weinig timmerlieden die hier zijn hebben ook de tijd niet om op zijn Spaans water bak te maken\n",
      "[6] God geven een dat de Terrataan van zij tegens ons niet oproeien ne worden gelijk met de Bandanes, Ambaires en ander hebben doen\n"
     ]
    },
    {
     "data": {
      "image/png": "[encoded data removed]",
      "text/plain": [
       "<Figure size 800x600 with 1 Axes>"
      ]
     },
     "metadata": {},
     "output_type": "display_data"
    }
   ],
   "source": [
    "# load text\n",
    "file_path = 'Missive_001_CleanedByHand.txt'\n",
    "with open(file_path, 'r', encoding='utf-8') as file:\n",
    "    missive_text = file.read()\n",
    "\n",
    "# run LexRank summarization\n",
    "num_sentences_to_extract = 10\n",
    "summary = lexrank_summarize(missive_text, num_sentences=num_sentences_to_extract)\n",
    "\n",
    "# recompute similarity matrix just for the summary sentences\n",
    "tokens_list = [tokenize(sentence) for sentence in summary]\n",
    "tf = compute_tf(tokens_list)\n",
    "idf = compute_idf(tokens_list)\n",
    "tfidf_vectors = compute_tfidf(tf, idf)\n",
    "sim_matrix = cosine_sim_matrix(tfidf_vectors)\n",
    "\n",
    "# visualize summary graph\n",
    "total_sent_count = len(split_sentences(missive_text)) \n",
    "\n",
    "visualize_sentence_graph(\n",
    "    sentences=summary,\n",
    "    sim_matrix=sim_matrix,\n",
    "    total_sentences=total_sent_count,\n",
    "    num_nodes=7,\n",
    "    threshold=0.1,\n",
    "    force_edges=True\n",
    ")"
   ]
  },
  {
   "cell_type": "markdown",
   "id": "1cf96134-3b59-4cb8-985d-d77447b0ab2b",
   "metadata": {},
   "source": [
    "## **Part 1.2: LexRank output inspection for \"Missive_001\" in \"GaLAHaD_missive_partially_translated.csv\"**\n",
    "\n",
    "The output only inspects the data of the first text of \"GaLAHaD_missive_partially_translated.csv\", but this can be altered by changing the \"file_path\" variable. \n",
    "\n",
    "**1:** The first cell inspects the output as is.  <br>\n",
    "**2:** The second cell inspects the output as a graph based model by also visualizing the actual methodology"
   ]
  },
  {
   "cell_type": "code",
   "execution_count": 140,
   "id": "3d56812e-6f5f-4f25-af60-7c192c5ab7d0",
   "metadata": {},
   "outputs": [
    {
     "name": "stdout",
     "output_type": "stream",
     "text": [
      "\n",
      "LexRank Summary from: Missive_001_CleanedByHand.txt\n",
      "--------------------------------------------------\n",
      "\n",
      "Top 10 Topic Sentences (from TXT):\n",
      "\n",
      "1. Dan het schijnen dat zulks beteren voor eerst nog niet te wehen zullen kunnen worden brengen en dat vermits Uwe Edele nu enig jaar achter de ander zo sober equiperen en zo weinig schepen zenden hebben\n",
      "2. Zo hopen dat met de goed schours die toekomend jaar van Uwe Edele te verwachten hebben, zij alsdan met geweld Moluger, Amboijna en Banda wel weren en verdrijven zullen\n",
      "3. Maar alzo het verdrag met de Makassaar de Compagnie doen te veel schadelijk in Amboijna en Banda wezen zullen door de vrij vaart en handel welk de Makassaar in die kwartier zullen pretenderen te doen\n",
      "4. En dat dievolg en bereid zijn te gaan of blijven daar de Generaal Compagnie e van ik goed dikken worden van\n",
      "5. Maar zijn arresteren na naar gebruiken ten du woor en ne de s een document dat voor eerst nog blijven zullen en ons voorder naar gelegenheid van zaak en de tijd reguleren zullen\n",
      "6. De weinig timmerlieden die hier zijn hebben ook de tijd niet om op zijn Spaans water bak te maken\n",
      "7. God geven een dat de Terrataan van zij tegens ons niet oproeien ne worden gelijk met de Bandanes, Ambaires en ander hebben doen\n",
      "8. Inwaarts zijn op verscheiden plaats mede niet weinig zijn te nemen, dan wat van hij doen en wat zullen ik zonder macht doen\n",
      "9. En vallen schepen zijn, zo zullen het wel achteren kunnen blijven door gebrek van justage om water te bergen\n",
      "10. Hier op considereren wezen dat ons de rijs van daar in deze stand wel nodig en ook zeer dienstig zijn\n",
      "\n",
      "LexRank Summary from: GaLAHaD_missive_partial_translation.csv (first record)\n",
      "--------------------------------------------------\n",
      "\n",
      "Top 10 Topic Sentences (from CSV):\n",
      "\n",
      "1. hebben wij het opgehen na+de tijding van+de moluguis en daar naar om dat de timmerlieden van+het zelvig voor zijn vertrek het jacht de zuider Eendracht wat verzien houden\n",
      "2. daar tegen appar zijn de+Engelsen een goed macht bij de ander bekomen zullen zo zijn+het\n",
      "3. hebben ook de tijd niet om op zijn Spaans water bak te maken toen ons schepen en Manilla zijn\n",
      "4. een groot dienstje scheiden en zullen alwaren+het ook dat de prijs van+de nagelen zullen moeten verhogen\n",
      "5. dan zijn beide in+de Moluquis hebben en dat oog zeggen worden vermits de ternataar enig nieuwigheid varen hebben\n",
      "6. met enig provisie en een goed som veld om de+Engelsen te preveniëren en al de nagel\n",
      "7. die tegens hebben het goed schip van de Engelsen\n",
      "8. en zeilreed wezen zullen aan+het gewicht van+de nagel\n",
      "9. zullen de tijd aanzien en naar loop van zaak disponeren het zijn zeggen\n",
      "10. ons oog zo van de+het Almogende niet sterken worden de moet bij Cádiz benek hebben wij hier een goed kasteel\n"
     ]
    }
   ],
   "source": [
    "# Parameters\n",
    "num_sentences_to_extract = 10\n",
    "file_path = 'Missive_001_CleanedByHand.txt'\n",
    "csv_path = 'GaLAHaD_missive_partial_translation.csv'\n",
    "\n",
    "# Part 1: Summarize the cleaned hand-transcribed TXT file\n",
    "print(f\"\\nLexRank Summary from: {file_path}\\n{'-' * 50}\")\n",
    "\n",
    "with open(file_path, 'r', encoding='utf-8') as file:\n",
    "    missive_text = file.read()\n",
    "\n",
    "summary_txt = lexrank_summarize(missive_text, num_sentences=num_sentences_to_extract)\n",
    "\n",
    "print(f\"\\nTop {num_sentences_to_extract} Topic Sentences (from TXT):\\n\")\n",
    "for i, sentence in enumerate(summary_txt, 1):\n",
    "    print(f\"{i}. {sentence}\")\n",
    "\n",
    "# Part 2: Summarize the first entry in the GaLAHaD CSV file\n",
    "print(f\"\\nLexRank Summary from: {csv_path} (first record)\\n{'-' * 50}\")\n",
    "\n",
    "df = pd.read_csv(csv_path)\n",
    "\n",
    "if 'text' not in df.columns:\n",
    "    raise ValueError(f\"The file '{csv_path}' must contain a 'text' column.\")\n",
    "\n",
    "first_text = str(df.loc[0, 'text'])\n",
    "\n",
    "summary_csv = lexrank_summarize(first_text, num_sentences=num_sentences_to_extract)\n",
    "\n",
    "print(f\"\\nTop {num_sentences_to_extract} Topic Sentences (from CSV):\\n\")\n",
    "for i, sentence in enumerate(summary_csv, 1):\n",
    "    print(f\"{i}. {sentence}\")\n",
    "\n"
   ]
  },
  {
   "cell_type": "code",
   "execution_count": 141,
   "id": "348f9ec8-f231-41ee-be51-6c9ccc0c9b5c",
   "metadata": {},
   "outputs": [
    {
     "name": "stdout",
     "output_type": "stream",
     "text": [
      "\n",
      "Sentences used in graph:\n",
      "[0] hebben wij het opgehen na+de tijding van+de moluguis en daar naar om dat de timmerlieden van+het zelvig voor zijn vertrek het jacht de zuider Eendracht wat verzien houden\n",
      "[1] daar tegen appar zijn de+Engelsen een goed macht bij de ander bekomen zullen zo zijn+het\n",
      "[2] hebben ook de tijd niet om op zijn Spaans water bak te maken toen ons schepen en Manilla zijn\n",
      "[3] een groot dienstje scheiden en zullen alwaren+het ook dat de prijs van+de nagelen zullen moeten verhogen\n",
      "[4] dan zijn beide in+de Moluquis hebben en dat oog zeggen worden vermits de ternataar enig nieuwigheid varen hebben\n",
      "[5] met enig provisie en een goed som veld om de+Engelsen te preveniëren en al de nagel\n",
      "[6] die tegens hebben het goed schip van de Engelsen\n"
     ]
    },
    {
     "data": {
      "image/png": "[encoded data removed]",
      "text/plain": [
       "<Figure size 800x600 with 1 Axes>"
      ]
     },
     "metadata": {},
     "output_type": "display_data"
    }
   ],
   "source": [
    "csv_path = 'GaLAHaD_missive_partial_translation.csv'\n",
    "\n",
    "# Load CSV\n",
    "df = pd.read_csv(csv_path, encoding='utf-8')\n",
    "\n",
    "# Automatically use the 'text' column (since you confirmed it exists)\n",
    "if 'text' not in df.columns:\n",
    "    raise ValueError(\"CSV does not contain a 'text' column.\")\n",
    "\n",
    "# Example: process the first missive only\n",
    "missive_text = df.loc[0, 'text']\n",
    "\n",
    "# Number of sentences to extract in summary\n",
    "num_sentences_to_extract = 10\n",
    "\n",
    "# Run LexRank summarization\n",
    "summary = lexrank_summarize(missive_text, num_sentences=num_sentences_to_extract)\n",
    "\n",
    "# Recompute similarity matrix just for summary sentences\n",
    "tokens_list = [tokenize(sentence) for sentence in summary]\n",
    "tf = compute_tf(tokens_list)\n",
    "idf = compute_idf(tokens_list)\n",
    "tfidf_vectors = compute_tfidf(tf, idf)\n",
    "sim_matrix = cosine_sim_matrix(tfidf_vectors)\n",
    "\n",
    "# Total sentences in the original missive text\n",
    "total_sent_count = len(split_sentences(missive_text))\n",
    "\n",
    "# Visualize summary graph\n",
    "visualize_sentence_graph(\n",
    "    sentences=summary,\n",
    "    sim_matrix=sim_matrix,\n",
    "    total_sentences=total_sent_count,\n",
    "    num_nodes=7,\n",
    "    threshold=0.1,\n",
    "    force_edges=True\n",
    ")"
   ]
  },
  {
   "cell_type": "markdown",
   "id": "baa2b870-5a82-494c-8b25-842225583aef",
   "metadata": {},
   "source": [
    "# **Part 2: BM25**"
   ]
  },
  {
   "cell_type": "markdown",
   "id": "42c08a9a-9f8f-40a0-9f3b-2204c26d0d98",
   "metadata": {},
   "source": [
    "### **Part 2.1: Actual BM25 code used for Visualization**"
   ]
  },
  {
   "cell_type": "code",
   "execution_count": 152,
   "id": "30c61768-2587-4480-9952-8629f07eecd8",
   "metadata": {},
   "outputs": [],
   "source": [
    "def tokenize(text):\n",
    "    return text.lower().split()\n",
    "\n",
    "class BM25:\n",
    "    def __init__(self, corpus, k1=1.5, b=0.75):\n",
    "        self.k1 = k1\n",
    "        self.b = b\n",
    "        self.corpus = [tokenize(doc) for doc in corpus]\n",
    "        self.doc_len = [len(doc) for doc in self.corpus]\n",
    "        self.avgdl = np.mean(self.doc_len) if self.doc_len else 0\n",
    "        self.df = {}\n",
    "        self.idf = {}\n",
    "        self.N = len(self.corpus)\n",
    "        self.build()\n",
    "\n",
    "    def build(self):\n",
    "        for doc in self.corpus:\n",
    "            seen = set()\n",
    "            for word in doc:\n",
    "                if word not in seen:\n",
    "                    self.df[word] = self.df.get(word, 0) + 1\n",
    "                    seen.add(word)\n",
    "        for word, freq in self.df.items():\n",
    "            self.idf[word] = math.log(1 + (self.N - freq + 0.5) / (freq + 0.5))\n",
    "\n",
    "    def score(self, query, index):\n",
    "        score = 0.0\n",
    "        doc = self.corpus[index]\n",
    "        freq = Counter(doc)\n",
    "        dl = len(doc)\n",
    "        for word in tokenize(query):\n",
    "            if word in self.idf:\n",
    "                f = freq.get(word, 0)\n",
    "                idf = self.idf[word]\n",
    "                denom = f + self.k1 * (1 - self.b + self.b * dl / self.avgdl) if self.avgdl > 0 else 1\n",
    "                score += idf * (f * (self.k1 + 1)) / denom\n",
    "        return score\n",
    "\n",
    "    def get_scores(self, query):\n",
    "        return [self.score(query, i) for i in range(self.N)]\n",
    "\n",
    "def match_lexrank_sentences_to_documents_topk(summary_sentences, dfs, filenames, top_k=3):\n",
    "    \"\"\"\n",
    "    For each summary sentence, find the top_k documents (across all dfs) with highest BM25 scores.\n",
    "    Return a list of lists: for each sentence, a list of tuples (score, df_index, text, filename, row_index).\n",
    "    \"\"\"\n",
    "    results = []\n",
    "\n",
    "    for sentence in summary_sentences:\n",
    "        candidates = []\n",
    "\n",
    "        for df, fname in zip(dfs, filenames):\n",
    "            bm25 = BM25(df['text'].tolist())\n",
    "            scores = bm25.get_scores(sentence)\n",
    "            for idx, score in enumerate(scores):\n",
    "                candidates.append((score, idx, df.iloc[idx]['text'], fname))\n",
    "\n",
    "        # Sort candidates by score descending, keep top_k\n",
    "        top_candidates = sorted(candidates, key=lambda x: x[0], reverse=True)[:top_k]\n",
    "        # Format result for this sentence: (score, doc_index, text snippet, file, row_index)\n",
    "        # Here doc_index == row_index within that file's df\n",
    "        results.append(top_candidates)\n",
    "\n",
    "    return results"
   ]
  },
  {
   "cell_type": "markdown",
   "id": "bb4039d6-d597-46c2-ac73-3f437fbf5011",
   "metadata": {},
   "source": [
    "### **Part 2.2: BM25 for Output inspection**"
   ]
  },
  {
   "cell_type": "code",
   "execution_count": 143,
   "id": "76ca0f89-6ade-497b-b85b-da00a92044f2",
   "metadata": {},
   "outputs": [
    {
     "name": "stdout",
     "output_type": "stream",
     "text": [
      "\n",
      "Matching for CSV Missive (GaLAHaD translation)\n",
      "\n",
      "Sentence 1: hebben ook de tijd niet om op zijn Spaans water bak te maken toen ons schepen en Manilla zijn\n",
      "  Score: 17.4949 | File: 1616.csv | Row: 54 | Snippet: wederomme naert Vaderlandt te keeren versocht heeft mette eerste schepen dewwaerts te mogen gaen en gemerckt zij hooge maentgelee heeft...\n",
      "  Score: 16.2798 | File: 1617.csv | Row: 158 | Snippet: Gnal Reaels Brieff uyt Banda vanden 10en Mayo Ao. 1617 a folio Ditto Inal Reaels brieff van Amboyno vanden 2en...\n",
      "  Score: 14.5188 | File: 1617.csv | Row: 25 | Snippet: Erentfeste wijse. voorsielkihe heer discrete Heeren. ok hebbe (:volgens mijne schuldige plicht :) niet connen nalaten. V. Ed: met dese...\n",
      "\n",
      "Sentence 2: zullen de tijd aanzien en naar loop van zaak disponeren het zijn zeggen\n",
      "  Score: 12.8752 | File: 1616.csv | Row: 133 | Snippet: Arnmo Junj 1616 No. 6 Journael vande dagelycxse geschiedenisse ende moluco Gedt. 3 Julio 1655 to S XVNS onder Ambogna...\n",
      "  Score: 12.6567 | File: 1618.csv | Row: 5 | Snippet: Copie. Voor d'Ed: Heer President. den tehenwoordigen taedt voorgedragen zijnde. seeckeren brieff. vande Francen ontfangen der Schepen St. Michiel. e...\n",
      "  Score: 10.7530 | File: 1616.csv | Row: 90 | Snippet: ontrent geweest zijn, ende de zelve plaetse ongetwijf„ „felt affgelopen ende verbrandt zouden hebben, ten ware onse Schepen daer alsdoen,...\n",
      "\n",
      "Sentence 3: met enig provisie en een goed som veld om de+Engelsen te preveniëren en al de nagel\n",
      "  Score: 10.7715 | File: 1618.csv | Row: 9 | Snippet: Opt' alderspoedichste. Sult ghijluijden van hier reht door naer Hambi. eijlen. ende soo haest omtrent de reviere compt. sult datel....\n",
      "  Score: 10.0784 | File: 1617.csv | Row: 65 | Snippet: Deventteste manhaftige Wijse Voorsienige seer discrete heeren Dese Voorschreven is Copie van mijnen Jongsten aen V. E. , met den...\n",
      "  Score: 9.5313 | File: 1618.csv | Row: 48 | Snippet: 156 Amboina desen may 1618 M:r Basl mijni hertelijcke groeenisse aen vl: als oock mijne weijnige vrienden, liggende op het...\n",
      "\n",
      "Matching for Cleaned Missive\n",
      "\n",
      "Sentence 1: Dan het schijnen dat zulks beteren voor eerst nog niet te wehen zullen kunnen worden brengen en dat vermits Uwe Edele nu enig jaar achter de ander zo sober equiperen en zo weinig schepen zenden hebben\n",
      "  Score: 25.1690 | File: 1616.csv | Row: 154 | Snippet: off sij alle de werelt kennelijck van eer heer machtih ick wien faem alle de werelt sy bekent, genaempte Ho=chintsja...\n",
      "  Score: 24.1105 | File: 1616.csv | Row: 104 | Snippet: 162 Alsoo Do Coninck van Joor hemteger den vyant Geaffectioneert Is Reynsenderene de Correspondentie met donsen Gehouden, op neutralizatie (soo...\n",
      "  Score: 23.9425 | File: 1616.csv | Row: 103 | Snippet: 153 Pampieren contre Den dirrecteur van Berchem boecken vant schip Natane Een out gebroocken groot Boeck, en Iournael, vant schip...\n",
      "\n",
      "Sentence 2: Maar alzo het verdrag met de Makassaar de Compagnie doen te veel schadelijk in Amboijna en Banda wezen zullen door de vrij vaart en handel welk de Makassaar in die kwartier zullen pretenderen te doen\n",
      "  Score: 20.5789 | File: 1618.csv | Row: 21 | Snippet: 10. 171 mil Bantan. geschreven met d'originele antwoort daer bij ende oock recapitulct van he gepsse intentique copie van deselve...\n",
      "  Score: 20.3499 | File: 1617.csv | Row: 114 | Snippet: faeluyre van't Cargasoen dat Inden gouden Seuee op de Coromandelje Curte Is gescheept soo voort patnam als Bantam Anneken Ruijsz...\n",
      "  Score: 19.8125 | File: 1616.csv | Row: 40 | Snippet: datmen de sol datten op haer Riuement sal bettallen elck twee maenden gagie een in geltt ende een in Cledingh...\n",
      "\n",
      "Sentence 3: En dat dievolg en bereid zijn te gaan of blijven daar de Generaal Compagnie e van ik goed dikken worden van\n",
      "  Score: 29.4890 | File: 1616.csv | Row: 133 | Snippet: Arnmo Junj 1616 No. 6 Journael vande dagelycxse geschiedenisse ende moluco Gedt. 3 Julio 1655 to S XVNS onder Ambogna...\n",
      "  Score: 18.5124 | File: 1616.csv | Row: 89 | Snippet: ende voorgenamen nigter, ider by dien wegen behoort te letten clagt over Japonse tot dath segt over de Cruidmoters bi...\n",
      "  Score: 16.2542 | File: 1618.csv | Row: 48 | Snippet: 156 Amboina desen may 1618 M:r Basl mijni hertelijcke groeenisse aen vl: als oock mijne weijnige vrienden, liggende op het...\n"
     ]
    }
   ],
   "source": [
    "# Control how many top documents to retrieve per sentence\n",
    "top_k_bm25 = 3\n",
    "\n",
    "# Load both versions of the missive\n",
    "missive_csv_path = 'GaLAHaD_missive_partial_translation.csv'\n",
    "cleaned_missive_path = 'Missive_001_CleanedByHand.txt'\n",
    "\n",
    "df_generale_missive = pd.read_csv(missive_csv_path)\n",
    "csv_text = str(df_generale_missive.loc[0, 'text'])\n",
    "\n",
    "with open(cleaned_missive_path, 'r', encoding='utf-8') as f:\n",
    "    cleaned_text = f.read()\n",
    "\n",
    "# LexRank summarization\n",
    "num_sentences_to_extract = 3\n",
    "summary_csv = lexrank_summarize(csv_text, num_sentences=num_sentences_to_extract)\n",
    "summary_cleaned = lexrank_summarize(cleaned_text, num_sentences=num_sentences_to_extract)\n",
    "\n",
    "# Load corpora for matching\n",
    "transcriptions_folder = 'transcriptions_sorted'\n",
    "missive_year = int(df_generale_missive.loc[0, 'year'])\n",
    "target_years = [missive_year - i for i in range(3)]\n",
    "target_files = [os.path.join(transcriptions_folder, f\"{year}.csv\") for year in target_years]\n",
    "\n",
    "dfs = []\n",
    "loaded_files = []\n",
    "for file_path in target_files:\n",
    "    if os.path.exists(file_path):\n",
    "        df = pd.read_csv(file_path)\n",
    "        if 'content' in df.columns:\n",
    "            df = df.rename(columns={'content': 'text'})\n",
    "        df['text'] = df['text'].astype(str)\n",
    "        dfs.append(df)\n",
    "        loaded_files.append(os.path.basename(file_path))\n",
    "    else:\n",
    "        print(f\"Warning: {file_path} not found. Skipping.\")\n",
    "\n",
    "# Tokenizer and BM25 class used for inspection only\n",
    "def tokenize(text):\n",
    "    return text.lower().split()\n",
    "\n",
    "class BM25:\n",
    "    def __init__(self, corpus, k1=1.5, b=0.75):\n",
    "        self.k1 = k1\n",
    "        self.b = b\n",
    "        self.corpus = [tokenize(doc) for doc in corpus]\n",
    "        self.doc_len = [len(doc) for doc in self.corpus]\n",
    "        self.avgdl = np.mean(self.doc_len) if self.doc_len else 0\n",
    "        self.df = {}\n",
    "        self.idf = {}\n",
    "        self.N = len(self.corpus)\n",
    "        self.build()\n",
    "\n",
    "    def build(self):\n",
    "        for doc in self.corpus:\n",
    "            seen = set()\n",
    "            for word in doc:\n",
    "                if word not in seen:\n",
    "                    self.df[word] = self.df.get(word, 0) + 1\n",
    "                    seen.add(word)\n",
    "        for word, freq in self.df.items():\n",
    "            self.idf[word] = math.log(1 + (self.N - freq + 0.5) / (freq + 0.5))\n",
    "\n",
    "    def score(self, query, index):\n",
    "        score = 0.0\n",
    "        doc = self.corpus[index]\n",
    "        freq = Counter(doc)\n",
    "        dl = len(doc)\n",
    "        for word in tokenize(query):\n",
    "            if word in self.idf:\n",
    "                f = freq.get(word, 0)\n",
    "                idf = self.idf[word]\n",
    "                denom = f + self.k1 * (1 - self.b + self.b * dl / self.avgdl) if self.avgdl > 0 else 1\n",
    "                score += idf * (f * (self.k1 + 1)) / denom\n",
    "        return score\n",
    "\n",
    "    def get_scores(self, query):\n",
    "        return [self.score(query, i) for i in range(self.N)]\n",
    "\n",
    "def match_lexrank_sentences_to_documents_topk(summary_sentences, dfs, filenames, top_k=3):\n",
    "    results = []\n",
    "    for sentence in summary_sentences:\n",
    "        candidates = []\n",
    "        for df, fname in zip(dfs, filenames):\n",
    "            bm25 = BM25(df['text'].tolist())\n",
    "            scores = bm25.get_scores(sentence)\n",
    "            for idx, score in enumerate(scores):\n",
    "                candidates.append((score, idx, df.iloc[idx]['text'], fname))\n",
    "        top_candidates = sorted(candidates, key=lambda x: x[0], reverse=True)[:top_k]\n",
    "        results.append(top_candidates)\n",
    "    return results\n",
    "\n",
    "# Run matching for both versions\n",
    "print(\"\\nMatching for CSV Missive (GaLAHaD translation)\")\n",
    "matches_csv = match_lexrank_sentences_to_documents_topk(summary_csv, dfs, loaded_files, top_k=top_k_bm25)\n",
    "for i, top_docs in enumerate(matches_csv):\n",
    "    print(f\"\\nSentence {i+1}: {summary_csv[i]}\")\n",
    "    for score, idx, text, fname in top_docs:\n",
    "        snippet = ' '.join(text.split()[:20]) + \"...\"\n",
    "        print(f\"  Score: {score:.4f} | File: {fname} | Row: {idx} | Snippet: {snippet}\")\n",
    "\n",
    "print(\"\\nMatching for Cleaned Missive\")\n",
    "matches_cleaned = match_lexrank_sentences_to_documents_topk(summary_cleaned, dfs, loaded_files, top_k=top_k_bm25)\n",
    "for i, top_docs in enumerate(matches_cleaned):\n",
    "    print(f\"\\nSentence {i+1}: {summary_cleaned[i]}\")\n",
    "    for score, idx, text, fname in top_docs:\n",
    "        snippet = ' '.join(text.split()[:20]) + \"...\"\n",
    "        print(f\"  Score: {score:.4f} | File: {fname} | Row: {idx} | Snippet: {snippet}\")\n"
   ]
  },
  {
   "cell_type": "markdown",
   "id": "28ca5097-23d1-4301-9870-35dc0e9f0bef",
   "metadata": {},
   "source": [
    "# **Part 3: Graph-Based Visualization**"
   ]
  },
  {
   "cell_type": "code",
   "execution_count": 155,
   "id": "071a3769-ee39-420d-a6c8-2c4b6d8cc9b6",
   "metadata": {},
   "outputs": [],
   "source": [
    "def visualize_interactive_graph(missive_name, top_sentences, similarity_scores, doc_metadata, doc_snippets, meta, num_top_docs=3):\n",
    "    G = nx.DiGraph()\n",
    "\n",
    "    # Main Missive node hover multiline\n",
    "    missive_hover = (\n",
    "        f\"Filename: {meta.get('filename', 'N/A')}<br>\"\n",
    "        f\"Source: {meta.get('source', 'N/A')}<br>\"\n",
    "        f\"Year: {meta.get('year', 'N/A')}\"\n",
    "    )\n",
    "    G.add_node(\"M\", label=\"M\", hover=missive_hover, group='missive')\n",
    "\n",
    "    positions = {\"M\": (0, 0)}\n",
    "    y_spacing = -2\n",
    "    x_spacing = 3\n",
    "    doc_y_base = y_spacing * 2\n",
    "    doc_y_spacing = 1.5\n",
    "\n",
    "    for i, sentence in enumerate(top_sentences):\n",
    "        sent_node = f\"S{i+1}\"\n",
    "        sent_x = (i - (len(top_sentences) - 1) / 2) * x_spacing\n",
    "        sent_y = y_spacing\n",
    "        sent_hover = f\"{sentence}<br>Topic sentence #{i+1}\"\n",
    "        positions[sent_node] = (sent_x, sent_y)\n",
    "        G.add_node(sent_node, label=sent_node, hover=sent_hover, group='sentence')\n",
    "        G.add_edge(\"M\", sent_node)\n",
    "\n",
    "        for j in range(num_top_docs):\n",
    "            doc_index = i * num_top_docs + j\n",
    "            if doc_index >= len(doc_metadata):\n",
    "                continue\n",
    "            csv_file, row_index = doc_metadata[doc_index]\n",
    "            score = similarity_scores[i][j]\n",
    "            snippet = doc_snippets[doc_index]\n",
    "            snippet_preview = (snippet[:150] + \"...\") if len(snippet) > 150 else snippet\n",
    "            doc_label = f\"{i+1}{chr(65+j)}\"\n",
    "            doc_hover = (\n",
    "                f\"Document: {csv_file} - Row {row_index}<br>\"\n",
    "                f\"BM25 score: {score:.4f}<br>\"\n",
    "                f\"Text snippet:<br>{snippet_preview}\"\n",
    "            )\n",
    "            doc_x = sent_x + (j - (num_top_docs - 1) / 2) * 1.5\n",
    "            doc_y = doc_y_base - i * doc_y_spacing\n",
    "            positions[doc_label] = (doc_x, doc_y)\n",
    "            G.add_node(doc_label, label=doc_label, hover=doc_hover, group='document')\n",
    "            G.add_edge(sent_node, doc_label)\n",
    "\n",
    "    # Edges\n",
    "    edge_x, edge_y = [], []\n",
    "    for src, tgt in G.edges():\n",
    "        x0, y0 = positions[src]\n",
    "        x1, y1 = positions[tgt]\n",
    "        edge_x += [x0, x1, None]\n",
    "        edge_y += [y0, y1, None]\n",
    "\n",
    "    edge_trace = go.Scatter(\n",
    "        x=edge_x, y=edge_y,\n",
    "        line=dict(width=1.5, color='#888'),\n",
    "        hoverinfo='none',\n",
    "        mode='lines'\n",
    "    )\n",
    "\n",
    "    # Nodes\n",
    "    node_x, node_y, node_text, node_hover, node_color, node_textpos = [], [], [], [], [], []\n",
    "    color_map = {'missive': 'skyblue', 'sentence': 'lightgreen', 'document': 'lightcoral'}\n",
    "\n",
    "    for node, attrs in G.nodes(data=True):\n",
    "        x, y = positions[node]\n",
    "        node_x.append(x)\n",
    "        node_y.append(y)\n",
    "        node_hover.append(attrs['hover'])\n",
    "        node_color.append(color_map[attrs['group']])\n",
    "        node_text.append(attrs['label'])\n",
    "        node_textpos.append('middle center')\n",
    "\n",
    "    node_trace = go.Scatter(\n",
    "        x=node_x, y=node_y,\n",
    "        mode='markers+text',\n",
    "        text=node_text,\n",
    "        textposition=node_textpos,\n",
    "        hovertext=node_hover,\n",
    "        hoverinfo='text',\n",
    "        marker=dict(size=30, color=node_color, line=dict(width=2)),\n",
    "        textfont=dict(size=14, color='black', family='Arial Black')\n",
    "    )\n",
    "\n",
    "    # Legend\n",
    "    legend_items = [\n",
    "        (\"skyblue\", \"M = Missive\"),\n",
    "        (\"lightgreen\", \"S1, S2... = Top Sentences\"),\n",
    "        (\"lightcoral\", \"1A, 2B... = Source Docs\")\n",
    "    ]\n",
    "    legend_shapes = []\n",
    "    legend_annotations = []\n",
    "    rect_x0, rect_x1 = 0.02, 0.05\n",
    "    text_x = 0.06\n",
    "    rect_height = 0.05\n",
    "\n",
    "    for i, (color, label) in enumerate(legend_items):\n",
    "        y_pos = 1.0 - i * 0.07\n",
    "        legend_shapes.append(dict(\n",
    "            type=\"rect\",\n",
    "            x0=rect_x0, y0=y_pos, x1=rect_x1, y1=y_pos + rect_height,\n",
    "            xref=\"paper\", yref=\"paper\",\n",
    "            fillcolor=color, line=dict(width=1)\n",
    "        ))\n",
    "        legend_annotations.append(dict(\n",
    "            x=text_x, \n",
    "            y=y_pos + rect_height / 2 + 0.01,\n",
    "            xref=\"paper\", \n",
    "            yref=\"paper\",\n",
    "            text=label,\n",
    "            showarrow=False,\n",
    "            align=\"left\",\n",
    "            font=dict(size=12, family='Arial'),\n",
    "            yanchor=\"middle\"\n",
    "        ))\n",
    "\n",
    "    fig = go.Figure(\n",
    "        data=[edge_trace, node_trace],\n",
    "        layout=go.Layout(\n",
    "            title=dict(text='Missive Similarity Graph (BM25)', x=0.5, font=dict(size=16)),\n",
    "            showlegend=False,\n",
    "            hovermode='closest',\n",
    "            margin=dict(b=20, l=120, r=20, t=60),\n",
    "            xaxis=dict(showgrid=False, zeroline=False, showticklabels=False),\n",
    "            yaxis=dict(showgrid=False, zeroline=False, showticklabels=False),\n",
    "            shapes=legend_shapes,\n",
    "            annotations=legend_annotations\n",
    "        )\n",
    "    )\n",
    "\n",
    "    fig.show()\n",
    "\n",
    "def print_graph_legend(top_sentences, similarity_scores, doc_metadata, num_top_docs):\n",
    "    print(\"\\nGraph Node Legend:\\n\")\n",
    "    for i, sentence in enumerate(top_sentences):\n",
    "        print(f\"S{i+1}: {sentence}\")\n",
    "        for j in range(num_top_docs):\n",
    "            node_label = f\"{i+1}{chr(ord('A') + j)}\"\n",
    "            score = similarity_scores[i][j]\n",
    "            filename, row_index = doc_metadata[i * num_top_docs + j]\n",
    "            print(f\"  {node_label}: BM25 Score = {score:.4f}, Document = {filename} (Row {row_index})\")\n",
    "        print()\n"
   ]
  },
  {
   "cell_type": "markdown",
   "id": "ab06866f-3831-4481-b8c8-5226fd98c0eb",
   "metadata": {},
   "source": [
    "### **Part 3.1: Execute the cell below to generate the interactive visualization of missive similarities**\n",
    "\n",
    "Average runtime for 3 topic sentences and 3 similar documents is: `60 seconds`?"
   ]
  },
  {
   "cell_type": "code",
   "execution_count": 156,
   "id": "e97322a7-a5f9-481a-8c81-ee1b872d6794",
   "metadata": {},
   "outputs": [
    {
     "name": "stdin",
     "output_type": "stream",
     "text": [
      "Enter the row index of the missive [Value Range: 1-923]:  1\n",
      "Enter the number of topic sentences to extract [Recommended: 2-10]:  3\n",
      "Enter the number of similar documents per sentence [Recommended: 1-5]:  3\n"
     ]
    },
    {
     "name": "stdout",
     "output_type": "stream",
     "text": [
      "\n",
      "Total missives in file: 923\n",
      "Total transcription documents loaded: 503\n",
      "\n",
      "Processing missive from row 1 (missive_001):\n",
      "\n",
      "BM25 model loaded texts from:\n",
      "  - 1616.csv\n",
      "  - 1617.csv\n",
      "  - 1618.csv\n",
      "\n"
     ]
    },
    {
     "data": {
      "application/vnd.plotly.v1+json": {
       "config": {
        "plotlyServerURL": "https://plot.ly"
       },
       "data": [
        {
         "hoverinfo": "none",
         "line": {
          "color": "#888",
          "width": 1.5
         },
         "mode": "lines",
         "type": "scatter",
         "x": [
          0,
          -3,
          null,
          0,
          0,
          null,
          0,
          3,
          null,
          -3,
          -4.5,
          null,
          -3,
          -3,
          null,
          -3,
          -1.5,
          null,
          0,
          -1.5,
          null,
          0,
          0,
          null,
          0,
          1.5,
          null,
          3,
          1.5,
          null,
          3,
          3,
          null,
          3,
          4.5,
          null
         ],
         "y": [
          0,
          -2,
          null,
          0,
          -2,
          null,
          0,
          -2,
          null,
          -2,
          -4,
          null,
          -2,
          -4,
          null,
          -2,
          -4,
          null,
          -2,
          -5.5,
          null,
          -2,
          -5.5,
          null,
          -2,
          -5.5,
          null,
          -2,
          -7,
          null,
          -2,
          -7,
          null,
          -2,
          -7,
          null
         ]
        },
        {
         "hoverinfo": "text",
         "hovertext": [
          "Filename: missive_001<br>Source: TSV<br>Year: 1618.0",
          "hebben ook de tijd niet om op zijn Spaans water bak te maken toen ons schepen en Manilla zijn<br>Topic sentence #1",
          "Document: 1616.csv - Row 54<br>BM25 score: 17.4949<br>Text snippet:<br>wederomme naert Vaderlandt te keeren versocht heeft mette eerste schepen dewwaerts te mogen gaen en gemerckt zij hooge maentgelee heeft ende gheen pla...",
          "Document: 1617.csv - Row 158<br>BM25 score: 16.2798<br>Text snippet:<br>Gnal Reaels Brieff uyt Banda vanden 10en Mayo Ao. 1617 a folio Ditto Inal Reaels brieff van Amboyno vanden 2en Julio Ao 1617 Resolutien van ditto Reae...",
          "Document: 1617.csv - Row 25<br>BM25 score: 14.5188<br>Text snippet:<br>Erentfeste wijse. voorsielkihe heer discrete Heeren. ok hebbe (:volgens mijne schuldige plicht :) niet connen nalaten. V. Ed: met dese gelehentheijt v...",
          "zullen de tijd aanzien en naar loop van zaak disponeren het zijn zeggen<br>Topic sentence #2",
          "Document: 1616.csv - Row 133<br>BM25 score: 12.8752<br>Text snippet:<br>Arnmo Junj 1616 No. 6 Journael vande dagelycxse geschiedenisse ende moluco Gedt. 3 Julio 1655 to S XVNS onder Ambogna Banda 23 July 1616 6 14 175. 175...",
          "Document: 1618.csv - Row 5<br>BM25 score: 12.6567<br>Text snippet:<br>Copie. Voor d'Ed: Heer President. den tehenwoordigen taedt voorgedragen zijnde. seeckeren brieff. vande Francen ontfangen der Schepen St. Michiel. e S...",
          "Document: 1616.csv - Row 90<br>BM25 score: 10.7530<br>Text snippet:<br>ontrent geweest zijn, ende de zelve plaetse ongetwijf„ „felt affgelopen ende verbrandt zouden hebben, ten ware onse Schepen daer alsdoen, hadden gewee...",
          "met enig provisie en een goed som veld om de+Engelsen te preveniëren en al de nagel<br>Topic sentence #3",
          "Document: 1618.csv - Row 9<br>BM25 score: 10.7715<br>Text snippet:<br>Opt' alderspoedichste. Sult ghijluijden van hier reht door naer Hambi. eijlen. ende soo haest omtrent de reviere compt. sult datel. opwaerts naer Jamb...",
          "Document: 1617.csv - Row 65<br>BM25 score: 10.0784<br>Text snippet:<br>Deventteste manhaftige Wijse Voorsienige seer discrete heeren Dese Voorschreven is Copie van mijnen Jongsten aen V. E. , met den Orangi boom die godt ...",
          "Document: 1618.csv - Row 48<br>BM25 score: 9.5313<br>Text snippet:<br>156 Amboina desen may 1618 M:r Basl mijni hertelijcke groeenisse aen vl: als oock mijne weijnige vrienden, liggende op het comptoir ende reede van ban..."
         ],
         "marker": {
          "color": [
           "skyblue",
           "lightgreen",
           "lightcoral",
           "lightcoral",
           "lightcoral",
           "lightgreen",
           "lightcoral",
           "lightcoral",
           "lightcoral",
           "lightgreen",
           "lightcoral",
           "lightcoral",
           "lightcoral"
          ],
          "line": {
           "width": 2
          },
          "size": 30
         },
         "mode": "markers+text",
         "text": [
          "M",
          "S1",
          "1A",
          "1B",
          "1C",
          "S2",
          "2A",
          "2B",
          "2C",
          "S3",
          "3A",
          "3B",
          "3C"
         ],
         "textfont": {
          "color": "black",
          "family": "Arial Black",
          "size": 14
         },
         "textposition": [
          "middle center",
          "middle center",
          "middle center",
          "middle center",
          "middle center",
          "middle center",
          "middle center",
          "middle center",
          "middle center",
          "middle center",
          "middle center",
          "middle center",
          "middle center"
         ],
         "type": "scatter",
         "x": [
          0,
          -3,
          -4.5,
          -3,
          -1.5,
          0,
          -1.5,
          0,
          1.5,
          3,
          1.5,
          3,
          4.5
         ],
         "y": [
          0,
          -2,
          -4,
          -4,
          -4,
          -2,
          -5.5,
          -5.5,
          -5.5,
          -2,
          -7,
          -7,
          -7
         ]
        }
       ],
       "layout": {
        "annotations": [
         {
          "align": "left",
          "font": {
           "family": "Arial",
           "size": 12
          },
          "showarrow": false,
          "text": "M = Missive",
          "x": 0.06,
          "xref": "paper",
          "y": 1.035,
          "yanchor": "middle",
          "yref": "paper"
         },
         {
          "align": "left",
          "font": {
           "family": "Arial",
           "size": 12
          },
          "showarrow": false,
          "text": "S1, S2... = Top Sentences",
          "x": 0.06,
          "xref": "paper",
          "y": 0.965,
          "yanchor": "middle",
          "yref": "paper"
         },
         {
          "align": "left",
          "font": {
           "family": "Arial",
           "size": 12
          },
          "showarrow": false,
          "text": "1A, 2B... = Source Docs",
          "x": 0.06,
          "xref": "paper",
          "y": 0.895,
          "yanchor": "middle",
          "yref": "paper"
         }
        ],
        "hovermode": "closest",
        "margin": {
         "b": 20,
         "l": 120,
         "r": 20,
         "t": 60
        },
        "shapes": [
         {
          "fillcolor": "skyblue",
          "line": {
           "width": 1
          },
          "type": "rect",
          "x0": 0.02,
          "x1": 0.05,
          "xref": "paper",
          "y0": 1,
          "y1": 1.05,
          "yref": "paper"
         },
         {
          "fillcolor": "lightgreen",
          "line": {
           "width": 1
          },
          "type": "rect",
          "x0": 0.02,
          "x1": 0.05,
          "xref": "paper",
          "y0": 0.9299999999999999,
          "y1": 0.98,
          "yref": "paper"
         },
         {
          "fillcolor": "lightcoral",
          "line": {
           "width": 1
          },
          "type": "rect",
          "x0": 0.02,
          "x1": 0.05,
          "xref": "paper",
          "y0": 0.86,
          "y1": 0.91,
          "yref": "paper"
         }
        ],
        "showlegend": false,
        "template": {
         "data": {
          "bar": [
           {
            "error_x": {
             "color": "#2a3f5f"
            },
            "error_y": {
             "color": "#2a3f5f"
            },
            "marker": {
             "line": {
              "color": "#E5ECF6",
              "width": 0.5
             },
             "pattern": {
              "fillmode": "overlay",
              "size": 10,
              "solidity": 0.2
             }
            },
            "type": "bar"
           }
          ],
          "barpolar": [
           {
            "marker": {
             "line": {
              "color": "#E5ECF6",
              "width": 0.5
             },
             "pattern": {
              "fillmode": "overlay",
              "size": 10,
              "solidity": 0.2
             }
            },
            "type": "barpolar"
           }
          ],
          "carpet": [
           {
            "aaxis": {
             "endlinecolor": "#2a3f5f",
             "gridcolor": "white",
             "linecolor": "white",
             "minorgridcolor": "white",
             "startlinecolor": "#2a3f5f"
            },
            "baxis": {
             "endlinecolor": "#2a3f5f",
             "gridcolor": "white",
             "linecolor": "white",
             "minorgridcolor": "white",
             "startlinecolor": "#2a3f5f"
            },
            "type": "carpet"
           }
          ],
          "choropleth": [
           {
            "colorbar": {
             "outlinewidth": 0,
             "ticks": ""
            },
            "type": "choropleth"
           }
          ],
          "contour": [
           {
            "colorbar": {
             "outlinewidth": 0,
             "ticks": ""
            },
            "colorscale": [
             [
              0,
              "#0d0887"
             ],
             [
              0.1111111111111111,
              "#46039f"
             ],
             [
              0.2222222222222222,
              "#7201a8"
             ],
             [
              0.3333333333333333,
              "#9c179e"
             ],
             [
              0.4444444444444444,
              "#bd3786"
             ],
             [
              0.5555555555555556,
              "#d8576b"
             ],
             [
              0.6666666666666666,
              "#ed7953"
             ],
             [
              0.7777777777777778,
              "#fb9f3a"
             ],
             [
              0.8888888888888888,
              "#fdca26"
             ],
             [
              1,
              "#f0f921"
             ]
            ],
            "type": "contour"
           }
          ],
          "contourcarpet": [
           {
            "colorbar": {
             "outlinewidth": 0,
             "ticks": ""
            },
            "type": "contourcarpet"
           }
          ],
          "heatmap": [
           {
            "colorbar": {
             "outlinewidth": 0,
             "ticks": ""
            },
            "colorscale": [
             [
              0,
              "#0d0887"
             ],
             [
              0.1111111111111111,
              "#46039f"
             ],
             [
              0.2222222222222222,
              "#7201a8"
             ],
             [
              0.3333333333333333,
              "#9c179e"
             ],
             [
              0.4444444444444444,
              "#bd3786"
             ],
             [
              0.5555555555555556,
              "#d8576b"
             ],
             [
              0.6666666666666666,
              "#ed7953"
             ],
             [
              0.7777777777777778,
              "#fb9f3a"
             ],
             [
              0.8888888888888888,
              "#fdca26"
             ],
             [
              1,
              "#f0f921"
             ]
            ],
            "type": "heatmap"
           }
          ],
          "histogram": [
           {
            "marker": {
             "pattern": {
              "fillmode": "overlay",
              "size": 10,
              "solidity": 0.2
             }
            },
            "type": "histogram"
           }
          ],
          "histogram2d": [
           {
            "colorbar": {
             "outlinewidth": 0,
             "ticks": ""
            },
            "colorscale": [
             [
              0,
              "#0d0887"
             ],
             [
              0.1111111111111111,
              "#46039f"
             ],
             [
              0.2222222222222222,
              "#7201a8"
             ],
             [
              0.3333333333333333,
              "#9c179e"
             ],
             [
              0.4444444444444444,
              "#bd3786"
             ],
             [
              0.5555555555555556,
              "#d8576b"
             ],
             [
              0.6666666666666666,
              "#ed7953"
             ],
             [
              0.7777777777777778,
              "#fb9f3a"
             ],
             [
              0.8888888888888888,
              "#fdca26"
             ],
             [
              1,
              "#f0f921"
             ]
            ],
            "type": "histogram2d"
           }
          ],
          "histogram2dcontour": [
           {
            "colorbar": {
             "outlinewidth": 0,
             "ticks": ""
            },
            "colorscale": [
             [
              0,
              "#0d0887"
             ],
             [
              0.1111111111111111,
              "#46039f"
             ],
             [
              0.2222222222222222,
              "#7201a8"
             ],
             [
              0.3333333333333333,
              "#9c179e"
             ],
             [
              0.4444444444444444,
              "#bd3786"
             ],
             [
              0.5555555555555556,
              "#d8576b"
             ],
             [
              0.6666666666666666,
              "#ed7953"
             ],
             [
              0.7777777777777778,
              "#fb9f3a"
             ],
             [
              0.8888888888888888,
              "#fdca26"
             ],
             [
              1,
              "#f0f921"
             ]
            ],
            "type": "histogram2dcontour"
           }
          ],
          "mesh3d": [
           {
            "colorbar": {
             "outlinewidth": 0,
             "ticks": ""
            },
            "type": "mesh3d"
           }
          ],
          "parcoords": [
           {
            "line": {
             "colorbar": {
              "outlinewidth": 0,
              "ticks": ""
             }
            },
            "type": "parcoords"
           }
          ],
          "pie": [
           {
            "automargin": true,
            "type": "pie"
           }
          ],
          "scatter": [
           {
            "fillpattern": {
             "fillmode": "overlay",
             "size": 10,
             "solidity": 0.2
            },
            "type": "scatter"
           }
          ],
          "scatter3d": [
           {
            "line": {
             "colorbar": {
              "outlinewidth": 0,
              "ticks": ""
             }
            },
            "marker": {
             "colorbar": {
              "outlinewidth": 0,
              "ticks": ""
             }
            },
            "type": "scatter3d"
           }
          ],
          "scattercarpet": [
           {
            "marker": {
             "colorbar": {
              "outlinewidth": 0,
              "ticks": ""
             }
            },
            "type": "scattercarpet"
           }
          ],
          "scattergeo": [
           {
            "marker": {
             "colorbar": {
              "outlinewidth": 0,
              "ticks": ""
             }
            },
            "type": "scattergeo"
           }
          ],
          "scattergl": [
           {
            "marker": {
             "colorbar": {
              "outlinewidth": 0,
              "ticks": ""
             }
            },
            "type": "scattergl"
           }
          ],
          "scattermap": [
           {
            "marker": {
             "colorbar": {
              "outlinewidth": 0,
              "ticks": ""
             }
            },
            "type": "scattermap"
           }
          ],
          "scattermapbox": [
           {
            "marker": {
             "colorbar": {
              "outlinewidth": 0,
              "ticks": ""
             }
            },
            "type": "scattermapbox"
           }
          ],
          "scatterpolar": [
           {
            "marker": {
             "colorbar": {
              "outlinewidth": 0,
              "ticks": ""
             }
            },
            "type": "scatterpolar"
           }
          ],
          "scatterpolargl": [
           {
            "marker": {
             "colorbar": {
              "outlinewidth": 0,
              "ticks": ""
             }
            },
            "type": "scatterpolargl"
           }
          ],
          "scatterternary": [
           {
            "marker": {
             "colorbar": {
              "outlinewidth": 0,
              "ticks": ""
             }
            },
            "type": "scatterternary"
           }
          ],
          "surface": [
           {
            "colorbar": {
             "outlinewidth": 0,
             "ticks": ""
            },
            "colorscale": [
             [
              0,
              "#0d0887"
             ],
             [
              0.1111111111111111,
              "#46039f"
             ],
             [
              0.2222222222222222,
              "#7201a8"
             ],
             [
              0.3333333333333333,
              "#9c179e"
             ],
             [
              0.4444444444444444,
              "#bd3786"
             ],
             [
              0.5555555555555556,
              "#d8576b"
             ],
             [
              0.6666666666666666,
              "#ed7953"
             ],
             [
              0.7777777777777778,
              "#fb9f3a"
             ],
             [
              0.8888888888888888,
              "#fdca26"
             ],
             [
              1,
              "#f0f921"
             ]
            ],
            "type": "surface"
           }
          ],
          "table": [
           {
            "cells": {
             "fill": {
              "color": "#EBF0F8"
             },
             "line": {
              "color": "white"
             }
            },
            "header": {
             "fill": {
              "color": "#C8D4E3"
             },
             "line": {
              "color": "white"
             }
            },
            "type": "table"
           }
          ]
         },
         "layout": {
          "annotationdefaults": {
           "arrowcolor": "#2a3f5f",
           "arrowhead": 0,
           "arrowwidth": 1
          },
          "autotypenumbers": "strict",
          "coloraxis": {
           "colorbar": {
            "outlinewidth": 0,
            "ticks": ""
           }
          },
          "colorscale": {
           "diverging": [
            [
             0,
             "#8e0152"
            ],
            [
             0.1,
             "#c51b7d"
            ],
            [
             0.2,
             "#de77ae"
            ],
            [
             0.3,
             "#f1b6da"
            ],
            [
             0.4,
             "#fde0ef"
            ],
            [
             0.5,
             "#f7f7f7"
            ],
            [
             0.6,
             "#e6f5d0"
            ],
            [
             0.7,
             "#b8e186"
            ],
            [
             0.8,
             "#7fbc41"
            ],
            [
             0.9,
             "#4d9221"
            ],
            [
             1,
             "#276419"
            ]
           ],
           "sequential": [
            [
             0,
             "#0d0887"
            ],
            [
             0.1111111111111111,
             "#46039f"
            ],
            [
             0.2222222222222222,
             "#7201a8"
            ],
            [
             0.3333333333333333,
             "#9c179e"
            ],
            [
             0.4444444444444444,
             "#bd3786"
            ],
            [
             0.5555555555555556,
             "#d8576b"
            ],
            [
             0.6666666666666666,
             "#ed7953"
            ],
            [
             0.7777777777777778,
             "#fb9f3a"
            ],
            [
             0.8888888888888888,
             "#fdca26"
            ],
            [
             1,
             "#f0f921"
            ]
           ],
           "sequentialminus": [
            [
             0,
             "#0d0887"
            ],
            [
             0.1111111111111111,
             "#46039f"
            ],
            [
             0.2222222222222222,
             "#7201a8"
            ],
            [
             0.3333333333333333,
             "#9c179e"
            ],
            [
             0.4444444444444444,
             "#bd3786"
            ],
            [
             0.5555555555555556,
             "#d8576b"
            ],
            [
             0.6666666666666666,
             "#ed7953"
            ],
            [
             0.7777777777777778,
             "#fb9f3a"
            ],
            [
             0.8888888888888888,
             "#fdca26"
            ],
            [
             1,
             "#f0f921"
            ]
           ]
          },
          "colorway": [
           "#636efa",
           "#EF553B",
           "#00cc96",
           "#ab63fa",
           "#FFA15A",
           "#19d3f3",
           "#FF6692",
           "#B6E880",
           "#FF97FF",
           "#FECB52"
          ],
          "font": {
           "color": "#2a3f5f"
          },
          "geo": {
           "bgcolor": "white",
           "lakecolor": "white",
           "landcolor": "#E5ECF6",
           "showlakes": true,
           "showland": true,
           "subunitcolor": "white"
          },
          "hoverlabel": {
           "align": "left"
          },
          "hovermode": "closest",
          "mapbox": {
           "style": "light"
          },
          "paper_bgcolor": "white",
          "plot_bgcolor": "#E5ECF6",
          "polar": {
           "angularaxis": {
            "gridcolor": "white",
            "linecolor": "white",
            "ticks": ""
           },
           "bgcolor": "#E5ECF6",
           "radialaxis": {
            "gridcolor": "white",
            "linecolor": "white",
            "ticks": ""
           }
          },
          "scene": {
           "xaxis": {
            "backgroundcolor": "#E5ECF6",
            "gridcolor": "white",
            "gridwidth": 2,
            "linecolor": "white",
            "showbackground": true,
            "ticks": "",
            "zerolinecolor": "white"
           },
           "yaxis": {
            "backgroundcolor": "#E5ECF6",
            "gridcolor": "white",
            "gridwidth": 2,
            "linecolor": "white",
            "showbackground": true,
            "ticks": "",
            "zerolinecolor": "white"
           },
           "zaxis": {
            "backgroundcolor": "#E5ECF6",
            "gridcolor": "white",
            "gridwidth": 2,
            "linecolor": "white",
            "showbackground": true,
            "ticks": "",
            "zerolinecolor": "white"
           }
          },
          "shapedefaults": {
           "line": {
            "color": "#2a3f5f"
           }
          },
          "ternary": {
           "aaxis": {
            "gridcolor": "white",
            "linecolor": "white",
            "ticks": ""
           },
           "baxis": {
            "gridcolor": "white",
            "linecolor": "white",
            "ticks": ""
           },
           "bgcolor": "#E5ECF6",
           "caxis": {
            "gridcolor": "white",
            "linecolor": "white",
            "ticks": ""
           }
          },
          "title": {
           "x": 0.05
          },
          "xaxis": {
           "automargin": true,
           "gridcolor": "white",
           "linecolor": "white",
           "ticks": "",
           "title": {
            "standoff": 15
           },
           "zerolinecolor": "white",
           "zerolinewidth": 2
          },
          "yaxis": {
           "automargin": true,
           "gridcolor": "white",
           "linecolor": "white",
           "ticks": "",
           "title": {
            "standoff": 15
           },
           "zerolinecolor": "white",
           "zerolinewidth": 2
          }
         }
        },
        "title": {
         "font": {
          "size": 16
         },
         "text": "Missive Similarity Graph (BM25)",
         "x": 0.5
        },
        "xaxis": {
         "showgrid": false,
         "showticklabels": false,
         "zeroline": false
        },
        "yaxis": {
         "showgrid": false,
         "showticklabels": false,
         "zeroline": false
        }
       }
      },
      "image/png": "[encoded data removed]"
     },
     "metadata": {},
     "output_type": "display_data"
    },
    {
     "name": "stdout",
     "output_type": "stream",
     "text": [
      "\n",
      "Graph Node Legend:\n",
      "\n",
      "S1: hebben ook de tijd niet om op zijn Spaans water bak te maken toen ons schepen en Manilla zijn\n",
      "  1A: BM25 Score = 17.4949, Document = 1616.csv (Row 54)\n",
      "  1B: BM25 Score = 16.2798, Document = 1617.csv (Row 158)\n",
      "  1C: BM25 Score = 14.5188, Document = 1617.csv (Row 25)\n",
      "\n",
      "S2: zullen de tijd aanzien en naar loop van zaak disponeren het zijn zeggen\n",
      "  2A: BM25 Score = 12.8752, Document = 1616.csv (Row 133)\n",
      "  2B: BM25 Score = 12.6567, Document = 1618.csv (Row 5)\n",
      "  2C: BM25 Score = 10.7530, Document = 1616.csv (Row 90)\n",
      "\n",
      "S3: met enig provisie en een goed som veld om de+Engelsen te preveniëren en al de nagel\n",
      "  3A: BM25 Score = 10.7715, Document = 1618.csv (Row 9)\n",
      "  3B: BM25 Score = 10.0784, Document = 1617.csv (Row 65)\n",
      "  3C: BM25 Score = 9.5313, Document = 1618.csv (Row 48)\n",
      "\n"
     ]
    }
   ],
   "source": [
    "# User input and validation\n",
    "df_missives = pd.read_csv('GaLAHaD_missive_partial_translation.csv')\n",
    "total_missives = len(df_missives)\n",
    "\n",
    "try:\n",
    "    missive_index_user = int(input(f\"Enter the row index of the missive [Value Range: 1-{total_missives}]: \"))\n",
    "    if not (1 <= missive_index_user <= total_missives):\n",
    "        raise ValueError(f\"Missive index must be between 1 and {total_missives} (inclusive).\")\n",
    "    missive_index = missive_index_user - 1  # zero-based internally\n",
    "\n",
    "    num_top_sentences = int(input(\"Enter the number of topic sentences to extract [Recommended: 2-10]: \"))\n",
    "    if not (2 <= num_top_sentences <= 10):\n",
    "        raise ValueError(\"Number of topic sentences should be between 2 and 10.\")\n",
    "\n",
    "    num_top_sim_docs = int(input(\"Enter the number of similar documents per sentence [Recommended: 1-5]: \"))\n",
    "    if not (1 <= num_top_sim_docs <= 5):\n",
    "        raise ValueError(\"Number of similar documents per sentence should be between 1 and 5.\")\n",
    "\n",
    "except ValueError as ve:\n",
    "    print(f\"Invalid input: {ve}\")\n",
    "    raise SystemExit\n",
    "\n",
    "# Load selected missive metadata and text\n",
    "meta = df_missives.loc[missive_index]\n",
    "missive_text = meta['text']\n",
    "missive_year = int(meta['year'])\n",
    "start_year = missive_year - 2\n",
    "end_year = missive_year\n",
    "\n",
    "# Format missive filename for display\n",
    "missive_filename = f\"missive_{missive_index_user:03d}\"\n",
    "\n",
    "# Load transcription documents from years in range\n",
    "dfs = []\n",
    "loaded_files = []\n",
    "\n",
    "for year in range(start_year, end_year + 1):\n",
    "    path = os.path.join('transcriptions_sorted', f\"{year}.csv\")\n",
    "    if os.path.exists(path):\n",
    "        df = pd.read_csv(path)\n",
    "        if 'content' in df.columns:\n",
    "            df = df.rename(columns={'content': 'text'})\n",
    "        df['text'] = df['text'].astype(str)\n",
    "        dfs.append(df)\n",
    "        loaded_files.append(os.path.basename(path))\n",
    "    else:\n",
    "        print(f\"Warning: {path} not found. Skipping.\")\n",
    "\n",
    "# Summarize missive text\n",
    "summary = lexrank_summarize(missive_text, num_sentences=num_top_sentences)\n",
    "\n",
    "# Run BM25 matching for top K docs per sentence\n",
    "matches = match_lexrank_sentences_to_documents_topk(summary, dfs, loaded_files, top_k=num_top_sim_docs)\n",
    "\n",
    "# Prepare outputs for visualization\n",
    "top_sentences = summary\n",
    "similarity_scores = []\n",
    "doc_metadata = []\n",
    "doc_snippets = []\n",
    "\n",
    "for sentence_matches in matches:\n",
    "    scores = []\n",
    "    docs = []\n",
    "    snippets = []\n",
    "    for score, row_index, text, filename in sentence_matches:\n",
    "        scores.append(score)\n",
    "        docs.append((filename, row_index))\n",
    "        snippet = ' '.join(text.split()[:30])  # first 30 words snippet\n",
    "        snippets.append(snippet)\n",
    "    similarity_scores.append(scores)\n",
    "    doc_metadata.extend(docs)\n",
    "    doc_snippets.extend(snippets)\n",
    "\n",
    "print(f\"\\nTotal missives in file: {total_missives}\")\n",
    "print(f\"Total transcription documents loaded: {sum(len(df) for df in dfs)}\\n\")\n",
    "\n",
    "print(f\"Processing missive from row {missive_index_user} ({missive_filename}):\\n\")\n",
    "\n",
    "print(\"BM25 model loaded texts from:\")\n",
    "for fname in loaded_files:\n",
    "    print(f\"  - {fname}\")\n",
    "print()\n",
    "\n",
    "visualize_interactive_graph(\n",
    "   missive_name=missive_filename,\n",
    "   top_sentences=top_sentences,\n",
    "   similarity_scores=similarity_scores,\n",
    "   doc_metadata=doc_metadata,\n",
    "   doc_snippets=doc_snippets,\n",
    "   meta=meta,\n",
    "   num_top_docs=num_top_sim_docs\n",
    ")\n",
    "\n",
    "# print the legend after the graph\n",
    "print_graph_legend(top_sentences, similarity_scores, doc_metadata, num_top_sim_docs)"
   ]
  },
  {
   "cell_type": "markdown",
   "id": "7d8f1c40-c59d-42f2-90a5-b09e21836f1a",
   "metadata": {},
   "source": [
    "### **Part 3.2: Helper function for printing the text/content of a specific letter**"
   ]
  },
  {
   "cell_type": "code",
   "execution_count": 148,
   "id": "c274de1e-1c3d-4870-b255-0546cd6621cc",
   "metadata": {
    "scrolled": true
   },
   "outputs": [
    {
     "name": "stdout",
     "output_type": "stream",
     "text": [
      "Enter the year of the CSV file (e.g., 1616):\n"
     ]
    },
    {
     "name": "stdin",
     "output_type": "stream",
     "text": [
      " 1618\n"
     ]
    },
    {
     "name": "stdout",
     "output_type": "stream",
     "text": [
      "Enter the row index in that CSV (e.g., 133):\n"
     ]
    },
    {
     "name": "stdin",
     "output_type": "stream",
     "text": [
      " 5\n"
     ]
    },
    {
     "name": "stdout",
     "output_type": "stream",
     "text": [
      "\n",
      "Text from 1618.csv at row 5:\n",
      "\n",
      "Copie.\n",
      "Voor d'Ed: Heer President. den tehenwoordigen taedt voorgedragen zijnde.\n",
      "seeckeren brieff. vande Francen ontfangen der Schepen St. Michiel. e\n",
      "St. Louijs. te St. Malo, uijtgerust. gedateert 11. deser. Waer bij.\n",
      "Sijn versoeckende. ontslaginge vant' gearresteerde Schip St. Michiel.\n",
      "presenterende ons getuijchnisse van seeckere Javanen te brengen.\n",
      "dien hans de decker. hunnen Escherael. hebben gebracht. 15. oft\n",
      "20. mijlen In Zee aen een vande Engelse Schepen: vertrocken den lesten\n",
      "Januario Passado. Ten anderen mede gelesen zijnde. sijnde\n",
      "seekere attestatie In date 19. februario Passado. bij Jan Mertijnsz.\n",
      "Constapel. ende Francoijs Pietersz Cuijper. uijtgevaren opt'\n",
      "schip St. Louijs. ende alhier. daer van gelicht. Waer bij verclaren.\n",
      "dat tot verscheijden tijden: vanden Admirael Sr. Michiel. de Prince\n",
      "vlagge. vande grote stenge heeft gewacht. Ende onder de—\n",
      "selve eenige Souseratse moorse. ende andere Schepen vervolcht\n",
      "ende aengehaelt hebben. Waer over bij d'Ed: Heer President\n",
      "voorsz. den Raedt. sn deliberatie. Is gegeven. hoemen hier Jnne. —\n",
      "naer recht. ende reden. In aller billickheijt voirders sal procederen.\n",
      "om de comp. e van schade te behoeden. Alsoo d'onse. In Suratte.\n",
      "daer nu een treftelijck cargasoen. ende veel volck IB. ongetwijffelt\n",
      "niet ongemolesteert, en sullen blijven.\n",
      "Waer op. naer\n",
      "verscheijden debatten. een semmel. Is goetgevonden. ende geresolveert\n",
      "het voorss. Schip. St.  Michiel. niet t' allargeren maer In\n",
      "arrest te houden als oock der tijdt. sulcx toelatende. te Schip\n",
      "St. Louijs. In Verseeckeringe te memen. tot der tijdt. ende wijle toe\n",
      "St\n",
      "ons ditto francen suffisante borge, hebben, gestelt. dat wij. —\n",
      "wegen hunne roverijen. niet en zijn off hier namaels en sullen\n",
      "eenige schade. verleth. oft molestie In eenige quartieren. Lijden.\n",
      "oft van aldaer bescheet becomen. alrede niet geleden en hebben\n",
      "noch lijden sullen. Ende datmen hier van solemnel. Inder\n",
      "bester forms. tegens hun sal protest formeren. ende Insinueren.\n",
      "Actum Ret supra. E.\n",
      "Coen.\n",
      "J. K:\n",
      "Cornelis buijsero.\n",
      "Ende was onderteeckent.\n",
      "David marien.\n",
      "Cornelis Comansz.\n",
      "Crijn van Raemborch\n",
      "Abraham van bree\n",
      "Jacob Panckeras z\n",
      "Flores heres.\n",
      "Laurens Pieter. keiser.\n",
      "Corn. Cornelisz\n",
      "Thijs Comn: eleijshouwer & Sereth.\n",
      "Sijnordach. adj. 13. Mertius. @o 1618. Int' Schip\n",
      "Siericksee. Leggende Voor Bantam.\n",
      "8\n",
      "86\n",
      "Vervolch vande resolutien genomen bij den Heer\n",
      "President. ende den Raedt t'sedert t' vertreck\n",
      "vant' Schip de Goede fortijne. naert\n",
      "Vaderlandt.\n",
      "13 maart s6e8.\n",
      "5 olt 1688.\n",
      "2\n",
      "2\n",
      "AAEIHER.\n",
      "8 EENS\n",
      "Zijde Presente Raden geconsidereert zijnde hoe tot nochto E.\n",
      "met twee Schepen het Schip St. Michiel van St. Malo- In hee. omtrent\n",
      "Tanara. In arrest gehouden hebben. Ende alsoo van nieninge zijn sulcx\n",
      "te continueren ende onse Schepen. In andere affaijren ende de inhotie. nodich\n",
      "van doen zijn. Is bij den Ed: Heer President In deliberatie helcht\n",
      "hoe. off waermen t'selve Schip. met ons minste verleth. ten besten.\n",
      "In goede verseeckeringe sal connen ende mogen houden. Ende naer\n",
      "consideratie van saecken Is eenstemmel. gearresteert. datmen t'voorsz.\n",
      "Schip St. Michiel, met het Schip de bergerboot aen d'eijlanden van\n",
      "Jacatra. doen eijlen zall ter plaetse. daer onse Schepen verdubbelen.\n",
      "ende datmen het roer ende beijde de stengen lichten ende aen landt brengen\n",
      "ende houden salle. Item datmen ses stucken geschut. opt' eijlant\n",
      "sal planten soo tot defentie van d' onse. als omme t' voorsz Schip\n",
      "des nodich sijnde daer mede In bedwangh te houden.\n",
      "Den Schipper vant' Schip den wittenbeer overleden zijnde. Is goetgevonden\n",
      "dat Levert Thomas e. Schipper vant' Jacht Sacatra. In des\n",
      "overledens plaetse het Schippers ampt op den beer. bedulen zal\n",
      "Bij d' Ed. Heer President Verhaelt zijnde, hoe den Pangoran\n",
      "Gouverneur nu cortelinge onse peper opgehouden hadde, omme ons\n",
      "daer mede. naer zijnen wille te dwingh. ende het Schip St. Michiel\n",
      "te doen verlaten. Waer op geconsidereert zijnde, heensins geraden te\n",
      "wesen daeromme van ons recht te desisteren. noch ons daer mede\n",
      "vlatgdwingen. op dat het niet erger werde. Ende dat soo niet\n",
      "liber ende vrij negotieren mochten tot bantam niet te doen en hadden\n",
      "Waer over resolutel. licentie. omme te vertrecken versoeckende.\n",
      "ditto Pangoran gedesisteert ende onsen peper heeft laten uijtvoe\n",
      "sonder meer vant' Schip St. Michiel te spreecken. Ende alsoo\n",
      "d'affschepinge van onse goederen: ende t' geruchte van ons vertreck.\n",
      "de groten; ende cleken. contbaer geworden Is. Schijnt het dat soo\n",
      "voortvaren den Chinesen Raedt. ene de Chinese Instigatie. haer\n",
      "credit verliesen ende den Pangoran alle de groten ende seelu. tesen\n",
      "crijgen sall. Daer op wel soude mogen volgen dat Indier voegen\n",
      "van alles molestie, hinder. ende schade. die ons voor desen door den Panjor\n",
      "ende Chinesen Raedt aen gedaen Is. wel souden mogen werden ontslagen\n",
      "ende tot bantam seer goede conditien cannen becomen. Dan vermits\n",
      "d'opinie. dat Bantag noch hare Peper. geensins houden comen\n",
      "derven noch verlaten Int' herte vanden Van goran. ende zijnen boser\n",
      "Raedt soo vasten wortel genomen heeft. dat hun voorlaten staen\n",
      "dat ons daer mede connen dwinger ende niet te qualijk. tracteren moge\n",
      "Soo Ist. dat oock geensins, van haer boosheyt desisteren.\n",
      "noch geloven zullen dat wij t' menen. Jae In geen bespreck sullen\n",
      "connen d geraecken , voor dat al het volck van bantam gelicht hij\n",
      "Donderdach. adj. 15. Mertius. @o 1618.\n",
      "Int' Schip Zhee. Leggende voor Bantam.\n",
      "2\n",
      "2\n",
      "om dat alle de groten en cleren gedwongen ende gehouden zijn\n",
      "tot die tijdt toe te swijlen. alsoo. hoe ons te meerder last\n",
      "opgeleijt wert, het gemene Landt. off den Coninck niet dan te\n",
      "betervaert, ende te meerder geniet. tot dat het anders blijcke.\n",
      "ende d'overlast. die ons aengedaen wert. voorde schenen springe.\n",
      "Doch alsoo den loop van alle wercntlijcke saecken. Insonderheyt\n",
      "die van State. ende van dese quartieren wel een geheel ander\n",
      "uijtcompste houden connen nemen. dan aenden loop, oft handelinge\n",
      "gejugeert. oft begrepen worden van. Is mede ten dele geconsidereert\n",
      "soo het anders als onse opinie uijt vuele. wat Jnconvenienten wij.\n",
      "ende die van bantam, te verwachten hadden. ende wie het lanct\n",
      "harden can. Dan alsoo de saecke van gewichte Is: ende d'een noch\n",
      "d'ander uijtcompst. niet wel. off niet seeker. (:nade gelnke op nue :)\n",
      "voorseijt werden van/. off dat het oock een grote vermetelheijt\n",
      "schijnen zoude sulcx te pretenderen. off te willen onderstaen. ende\n",
      "soo een saecke: Langh samel. met heer rijpen moede gehandelt\n",
      "Is bij den Ed: Heer President In deliberatie\n",
      "moet werden.\n",
      "geleijt: Wat best geraden zij. ende elck vande saecke. duncke\n",
      "namentl. dat men alle ons volck van bantam lichten. als de\n",
      "plaetse geheel abandonnerende voirder procedere. ende\n",
      "d'uijtpompste den Heere der Heeren bevele. off dat ons weder.\n",
      "stille. zouden houden: ende als voor desen blijven continueren.\n",
      "op genae ende ongenaed van Pangoran Gouverneur ende den\n",
      "Chinesen Raedt. Dier op een consultatijff advijs geeijscht\n",
      "zijnde. omme naermaels op den loop van tijdt. d' Inlantse dissentie.\n",
      "ende andere saecken te delibereren. ende resolveren, Is geadviseert\n",
      "Te weten.\n",
      "Voort te varen. (:voor alsnoch sn voorgaende schijn :) tot dat aen\n",
      "uijterste preuve. zijn gecomen ende als dan te handelen, naer\n",
      "gelegentheijt van saecken ende den tijdt sal vereijschen tot der\n",
      "compe. werstant: ende proffijt.\n",
      "Cornelis Buijsero.\n",
      "Was onderteeckent.\n",
      "alsoo de guijterije. door den Pangoran alleen met zijn Chinesen Raet\n",
      "gepleecht wert. ende niet met die vanden Lande oft den adel\n",
      "soude (: onder porrestie :) niet ongeraden vinden- van bantam te\n",
      "vertreckene op hope beter conditie ende tractement: souden mogen becomen\n",
      "sonder nochtans hostiliteijt tegens die van bantam te gebruijcken ƒ\n",
      "Cornelis Ct Comans.\n",
      "Was geteeckent.\n",
      "Mij duurt (:onder correstie :) dat men bij provisie van vantaen.\n",
      "behoort te vertrecken om daer door te onderstaen. wat veranderinge\n",
      "Inde saecke. vallen wil. sonder nochtans dat men sehers de selve\n",
      "eenige hostiliteijt sullen gebruijcken\n",
      "Crijn van Raemborch\n",
      "ed\n",
      "Ondert se keus\n",
      "s\n",
      "chiel\n",
      "te\n",
      "mede\n",
      "den.\n",
      "A segge. naer mijn verstandt. het noch wat aen te sien- misselijk\n",
      "watter noch conde voorvallen.\n",
      "Gantam te verlaten. van\n",
      "altijdt gedaen werden.\n",
      "Laurens Sijmens ende\n",
      "Onderteeckent.\n",
      "Mijns aengaende. Vinde niet geraden de Plaetse van vantan geheel\n",
      "te verlaten noch eenige hostiliteijt tegens de selffde te thonen: maer\n",
      "alsnoch simuleren tot gelegener tijdt, ten ware. onse heeren meester\n",
      "daer toe. spiciale ordre. geheven hadden.\n",
      "David Marien.\n",
      "Was geteeckent\n",
      "Segge goet te vinden preuve te nemen. t' volck van landt acnboorts\n",
      "doen comen ende stille te sitten. op hope den Pangoran ons beter\n",
      "tractement te doen toesegge ende dan naer gelegentheijt van saecken\n",
      "4\n",
      "te protederen\n",
      "E: Rasiere. —\n",
      "Was onderteeckent.\n",
      "t segge alsoo wij hier ende daer wel peper connen becomen datmen\n",
      "sal van bantam vertrecken: ende sien. wat dat het wesen zall. offer\n",
      "ont vertrecken. ijet uijtbreecken sall: om den Pangoran te beproeven.\n",
      "Daeromme Is mijn advijs beter te vertrecken dan langer te blijven.\n",
      "Jacob Panckeras ed\n",
      "onderteeckent.\n",
      "Ik segge dat men soude van bantam vertrecken. ende sien het een weijniche\n",
      "om te sien off den Pangoran niet beter coop end wilde geven —\n",
      "ende niet beter coop gevende hem met den oorloch. aen te lasten.\n",
      "-\n",
      "CCornelis\n",
      "Cornelis\n",
      "Was geteekent\n",
      "Met de saecke voort te varen omme de procve. daer van te sien.\n",
      "alsoo de meninge Is datter anders heen beteringe omen sall.\n",
      "—\n",
      "Laurens Pietersz keijser\n",
      "immuleren. tot dat\n",
      "T' comptoir Cantam niet te verlaten. Maer\n",
      "tvan Sumatra.\n",
      "meerder verseeckeringe van Peper vande Westin\n",
      "te verwachten hebben. —.\n",
      "Abraham van bree.\n",
      "Alsoo wij met vruntschap aenden Pangoran hebben versocht. dat hij ons\n",
      "beter tractement zoude willen doen dan voor desen gedaen heeft ende\n",
      "ons sulcx niet wil toeseggen soo Is mijn advijs hem met den\n",
      "oorloch aen te tasten.\n",
      "Floris heres.\n",
      "Voor mij vinde geraden. bantam vijantlj aen te tasten, alsoo geen betersch\n",
      "vande Pangoran (aldus langer blijvende :) te verwachten Is.\n",
      "Jan Willems etd.\n",
      "Was onderteekkent\n",
      "Met brieff: van dato 7. en deser. In Jaratra Geeft S ra p r be Carpe\n",
      "8\n",
      "voor zijn advijs, bantam niet te verlaten: maer „ onder pretext van onse\n",
      "88\n",
      "uijtstaende schulden In te voirderen, aldaer te blijven resideren, & den\n",
      "Pangoran vruntlijk te bidden - ons tot Jnvoirderinge der selver te willen helpen.\n",
      "omme daer naer met alle vruntschap te mogen vertrecken.\n",
      "Was onderteeckent.\n",
      "Pieter de Carpentier.\n",
      "De Voorsz. advijsen. bij den Ed: Heer President. gehoort ende verstaen zijnde\n",
      "heeft hij de vrunden van haren goeden Randt: bedanct. Ende met eenen\n",
      "verclaert, dat de qualité- t'offitie- ene ampt. van elck, off een ijeder.\n",
      "niet mede braght. omme over soo een saecke. als dit Is. final te\n",
      "disponeren dat daer toe. oock niet gelast. noch geauthoriseert en zijn\n",
      "ende hij oock geensins van meninge Is. haer alle ende elck daer mede\n",
      "te belasten Maer dat goet gevonden heeft. de saecke met haer\n",
      "te beraetslagen. omme sich naden tijdt. ende bessden raedt ten\n",
      "besten vande Generale Compe. te rehuleren. Item dat alhoewel.\n",
      "(de saecke van buijten aensiende :) de voorhanct vant' behonnen werck\n",
      "veel swaricheden schijnt onderworpen te sijn. datter evenwel ten\n",
      "aensien van d' Jnwendige staet, ende Stant van bantam. voorde Generale\n",
      "Comp e hants geen swarticheijt en Is, omme al ons volck van daer\n",
      "te Lichten ende aes uijtersten voort te varen. Jae dat daer door\n",
      "ontwijstelijk van alle facherije ende overlast ontlast tot bantam,\n",
      "een heerlijcken Stant ende goet tractement. bekomen souden. Ende dat\n",
      "zijn Egants gen swaricheijt maeht omme met de saecke. des\n",
      "nodich wesende. Woort te varen. Doch alsoder voor des tijdt\n",
      "hants geen rediken sijn omme ons en soo een gewichtige saecke.\n",
      "te verhaesten. de wijle ons volck t'alle tijden. wel connen lichten\n",
      "Sijn E: hier over hoetvindt. t'finael arrest te schorten. ende\n",
      "tot naerder vergaderinge te vertrecken. Omme ten beste. naden tijdt\n",
      "te disponeren. Actum 15. mertio. 11618 Ut supra.\n",
      "-\n",
      "-\n",
      "J: P: Coen. —\n",
      "Was onderteekkent.\n",
      "Daer onder Stondt\n",
      "Corn. Vleishouwer\n",
      "Secretaris\n",
      "Thijs\n",
      "S\n",
      "2\n",
      "Alsoo van Jambj: ende Priaman hebben verstaen. datter veel Jonck\n",
      "soo van Japara. Ebressj. Jortan, als andere quartieren. daer omtrent\n",
      "den peper. aldaer meest hebben vercocht. end vervoert: op hope. die\n",
      "Inde voorsz. quartieren: weder tot goede avanche: te vinten: Soo I\n",
      "bijde Ed: Heer President den Raedt voorgedragen. dat\n",
      "aengesien t' verlith. ende verhinderinge die ons Inde peper hande\n",
      "als anders. hier tot bantam; dagelijcx wort aengedaen. oft het\n",
      "niet: geraet saen zoude wesen omme tegen t' rachte Jaer. weder\n",
      "ijets In voorraedt te hebben. een Schip met Capitael tot Incoop\n",
      "vande voorsz. peper. nade voorsz quartieren: van Japara. Geressi:\n",
      "ende Cortan te senden: alsoo t' monson: alle dageh. behint te verlopen.\n",
      "Waer op naer alles wel overleijt ende geconsidereert zijnde. Is\n",
      "eerstemmel. goetgevonden ende geresolveert, dat het Jacht den\n",
      "Arcnt. de halve maen ende Sloep Vlissingh, soo haest gereet\n",
      "connen wesen; ververts sullen werden gehoudend. met vier kisten\n",
      "Volgens d'Instructie\n",
      "ƒ\n",
      "tot recouvrement vande voorsz. pepers.\n",
      "hun bij de Heer President hiertoe mede te geven. Actum pot supr\n",
      "F: P: Cors. —\n",
      "Ende was onderteeckent.\n",
      "Cornelis Suijsero\n",
      "Cornelis C Cromans\n",
      "Crijn van Laemburch\n",
      "David. Maries.\n",
      "R. Rasire\n",
      "Laurens Pietersz Re\n",
      "Lauriks Sijmensz\n",
      "Thijs Corn. Vleijser\n",
      "Saterdach aen. 17. meert. 1618. Inte Schip\n",
      "Sierickse. Leggende voor Bantam\n",
      "2\n",
      "E\n",
      "Sesfrets\n",
      "89\n",
      "Alsoo van Patana verstaen, dat apparent was; het aenstaende Jaer\n",
      "In die quartieren- wijl een groot Scheepsladinge te becomen zijn zal.\n",
      "hnsonderheijt soo het gewas van Peper In Ligor ende bordelon.\n",
      "wel geluct. Gelijck mede dat goede hope hadden. dit Jaer aldaer\n",
      "een redelijck cargasoen Chinese waren. beomen soude. Is bij de\n",
      "presente Raden gearresteert. dat men het Schip den Swerten Leeuw\n",
      "(:welck tot dien eijnde tot nu toe. opgehouden Is geweest :) opt'\n",
      "-\n",
      "alderspoedichste recht door naer Batana. (enden zall\n",
      "met een Cargasoen van. Te weten.\n",
      "vijff kisten met En. 40. O.\n",
      "alle de resterende hollantse daelders. ende gesmoeten silver welck\n",
      "hebbende zijn.\n",
      "300. picol Sandelhout\n",
      "40. picol oliphants tanden.\n",
      "Iem. Is oock goetgevonden. dat het Jacht Sacatra resseks ditto Swerte\n",
      "Leeuw (: soo het tijtlijk gereet werden van :) mede naer patana seijlen\n",
      "sal. omme op Cochin China. oft Cambodsa gebruijct te werden.—\n",
      "Volgens ordre van d' Ed: Heer President\n",
      "J: P: Coen. —\n",
      "Actum Int supra\n",
      "Cornelis Suijsero\n",
      "Was onderteeckent.\n",
      "Jacob Panckeras e.\n",
      "Lauriks Sijmensz\n",
      "Thijs Corn vlenshouwerz\n",
      "Dijngxdach. adn. 20. martij. 1618. Int' Schip —\n",
      "Surick hill. Leggende voor Pantaen.\n",
      "p\n",
      "Seoret\n",
      "Vrijdach. aen. 23. Maert @o. 1618. Int Schip\n",
      "Zhee. leggende voor bantam.\n",
      "6\n",
      "De navolgende personen, Jonck. ende ombevaren. voor clene gaje\n",
      "uijtgevaren wesende. Ende alsnu cloeskijmannen zijnde. Is goetgevo\n",
      "omme onlust, te weren. ende de Lieden te beter. ende te meer tot des com\n",
      "siekst te animeren. dat van nu voortaen verdieken zullen. Te weten.\n",
      "Met de goede fortuijne uijtgevaren.\n",
      "Ente gerbrantz. van herlingen. gewonnen hebbende. ƒ 8. sal nu verduken ƒ\n",
      "Gerart Lucasz van Amsterdam heeft verdient ƒ 6. sal nu hebben e.\n",
      "Isack Claesz van Amsterdam bedongen hebbende ƒ 7. sal winnen ƒ\n",
      "Fredrick Fredricxsz van Hoorn. Sal In plaets van ƒ 6. verdieken. ƒ\n",
      "Cristoffel Gerritz van bremen. heeft gewonnen. ƒ 6. sal verdienen vr\n",
      "Cornelis arentz. van Amsterdam In plaets van ƒ 6. winnen ƒ\n",
      "Arent Jans z van Leeuwerden. bedongen hebbende ƒ 6. sal winnen.\n",
      "Willem Jansz van verthuijsen. gewonnen hebbende ƒ 62: sal nu verdieken ƒ\n",
      "sal nu hebben s\n",
      "Cornelis anthonis z van dordrecht. heeft gewonnen ƒ 7.\n",
      "sal winnenƒ\n",
      "ijsacq vande Weer van Amsterdam, bedongen heeft ƒ 6.\n",
      "Meijnert Claesz van Amsterdam. sal in plaets van ƒ6. verduken.\n",
      "heeft gewonnen ƒ 7. sal verdieken ƒ. 9\n",
      "Dirck hendricxsz van Sehenhoven.\n",
      "In plaets van ƒ 6. winnen ƒ 8\n",
      "Pr. Wybrantsz van Amsterdam.\n",
      "Symen Claes z van Amsterdam, bedongen hebben ƒ 6. sal verdieken ƒ 8\n",
      "hendrick Lubbertsz van Wuber heeft bedongen ƒ 62. sal nu winnen\n",
      "Otte hermens z van T Jon. In plaets van ƒ 64. winnen ƒ 9\n",
      "sal hebben ƒ 8\n",
      "Pieter Willems z Cas van Amsterdam heeft versicht ƒ 6.\n",
      "Marcelis Cornelisz van Rosendael bedongen hebbende ƒ8- sal winnen ƒ\n",
      "Fredrick Jansz van Groningen gewonnen hebbende. ƒ 8. sal nu verdicken etc.\n",
      "uijtgevaren met nieuw Bantam.\n",
      "Verduken.\n",
      "Albert Jans ende In plaets van ƒ 7.\n",
      "met Westvrieslandt uijtgevaren.\n",
      "Opke Copkes van mathai. heeft bedonten. ƒ 6 ½ sal nuwinnen ƒ 0\n",
      "uijtgevaren met de Trouw.\n",
      "Pieter Pietersz van Amsterdam heeft verdient ƒ 7.\n",
      "al nu hebben ƒ 9\n",
      "winnen ƒ 3\n",
      "Gerrit Lambertsze van Amsterdam in plaets van ƒ 7½\n",
      "Jacob Pietersz van Amsterdam heeft gewonnen. ƒ 8: nu verdierend. en\n",
      "Met den witten beer uijtgevaren.\n",
      "Gerrit abbes van bit Jagerlam. In plaets van ƒ 6. voor ondercuijperƒ\n",
      "W: Willems ze van Leijden Jongen gewonnen hebbende ƒ 4. sal verdieken. ƒ\n",
      "Fredrick Sijmens zn van Amsterdam Jongh. heeft bedongen ƒ 4. sal nr winnen ƒ\n",
      "ƒ 4. als nu vergieven ƒ\n",
      "Willem van balen Jongen In plaetse vande\n",
      "-\n",
      "uijtgevaren met Cwapen van Selandt.\n",
      "Gerrit Jans zn van delfte Jonge. heeft gewonnen ƒ 7. (al nu hebben etc.\n",
      "-\n",
      "ƒ 9\n",
      "Met: den Orange boom uijtgevaren.\n",
      "Evert Jans ende Opthoorn. heeft bedongen ƒ 6. sal nu hebsen ƒ 8.\n",
      "verdieken. ƒ 8.\n",
      "Samuel marchijs d' uijtgevaren voor assi stent: opt Schip den Witten beer\n",
      "a. ƒ 12. ter maendt. Wort ten respecte van clere gaje. die Is winnende\n",
      "toegeleijt. dat van nu voortaen. achtien guldens ter maekt sal verdienen.\n",
      "Guilliame van Eijndhoven. uijtgevaren voor eerste assistent,\n",
      "met het schip den Witten beer a ƒ 18. ter maent. Wort, ten respecte\n",
      "van goet comportement ende het ondercoopmatschap. geduijrende\n",
      "d'uijtfreijse. waergekomen heeft. toegeleijt. dat Voortaen als\n",
      "ondercoopman sal continueren. ende verdieken van nu aff. dertich\n",
      "guldens ter maendt. Actum hel supra.\n",
      "Was onderteecknt.\n",
      "J: P: Coch.\n",
      "Laurens Sijmensz.\n",
      "Claes hermens z\n",
      "Is present gewees\n",
      "1\n",
      "c\n",
      "Daniel vander Heggh.\n",
      "Thijs Corn. Vleijshouwerz\n",
      "hermen Claes ende voor Jongen uijtgevaren. a. ƒ 5. sal verdueken. ƒ 7.\n",
      "Jan Pietersz. In Plaetse van\n",
      "gevo\n",
      "des vori\n",
      "eten\n",
      "hebbe\n",
      "en\n",
      "en\n",
      "innen ƒ\n",
      "Gerets.\n",
      "90\n",
      "15\n"
     ]
    }
   ],
   "source": [
    "def print_single_doc_text():\n",
    "    print(\"Enter the year of the CSV file (e.g., 1616):\")\n",
    "    year_input = input().strip()\n",
    "    filename = f\"{year_input}.csv\"\n",
    "    \n",
    "    print(\"Enter the row index in that CSV (e.g., 133):\")\n",
    "    try:\n",
    "        row_index = int(input().strip())\n",
    "    except ValueError:\n",
    "        print(\"Invalid row index. Please enter an integer.\")\n",
    "        return\n",
    "    \n",
    "    filepath = os.path.join('transcriptions_sorted', filename)\n",
    "    if not os.path.exists(filepath):\n",
    "        print(f\"File not found: {filepath}\")\n",
    "        return\n",
    "    \n",
    "    df = pd.read_csv(filepath)\n",
    "    if 'content' not in df.columns:\n",
    "        print(f\"'content' column not found in {filename}\")\n",
    "        return\n",
    "    \n",
    "    if row_index < 0 or row_index >= len(df):\n",
    "        print(f\"Row index {row_index} out of range for file {filename} (0 to {len(df)-1})\")\n",
    "        return\n",
    "    \n",
    "    text = df.loc[row_index, 'content']\n",
    "    print(f\"\\nText from {filename} at row {row_index}:\\n\")\n",
    "    print(text)\n",
    "\n",
    "# Call the function to run interactively\n",
    "print_single_doc_text()\n"
   ]
  },
  {
   "cell_type": "code",
   "execution_count": null,
   "id": "0b8adc11-b029-46c1-af0d-e03ac1fbeb77",
   "metadata": {},
   "outputs": [],
   "source": []
  }
 ],
 "metadata": {
  "kernelspec": {
   "display_name": "Python 3 (ipykernel)",
   "language": "python",
   "name": "python3"
  },
  "language_info": {
   "codemirror_mode": {
    "name": "ipython",
    "version": 3
   },
   "file_extension": ".py",
   "mimetype": "text/x-python",
   "name": "python",
   "nbconvert_exporter": "python",
   "pygments_lexer": "ipython3",
   "version": "3.13.3"
  }
 },
 "nbformat": 4,
 "nbformat_minor": 5
}
