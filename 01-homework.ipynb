{
  "cells": [
    {
      "cell_type": "code",
      "execution_count": 4,
      "metadata": {
        "id": "iwo3w6KZa_Ne"
      },
      "outputs": [],
      "source": [
        "import numpy as np\n",
        "import matplotlib.pyplot as plt\n",
        "import io, urllib.request"
      ]
    },
    {
      "cell_type": "markdown",
      "metadata": {
        "id": "499Jg23Oa_Ni"
      },
      "source": [
        "This code downloads a picture (feel free to use your own):"
      ]
    },
    {
      "cell_type": "code",
      "execution_count": 5,
      "metadata": {
        "colab": {
          "base_uri": "https://localhost:8080/",
          "height": 435
        },
        "id": "uvvHTLNBa_Nj",
        "outputId": "f9071a62-2767-4bb3-a113-f76eb90bcb3c"
      },
      "outputs": [
        {
          "output_type": "display_data",
          "data": {
            "text/plain": [
              "<Figure size 640x480 with 1 Axes>"
            ],
            "image/png": "[encoded data removed]"
          },
          "metadata": {}
        }
      ],
      "source": [
        "URL = \"https://github.com/qi-rub/it-ss23-homework/raw/main/material/donkey.png\"\n",
        "ORIGINAL = plt.imread(io.BytesIO(urllib.request.urlopen(URL).read()))\n",
        "\n",
        "# remove alpha channel\n",
        "if ORIGINAL.shape[2] == 4:\n",
        "    alpha = ORIGINAL[:, :, 3:]\n",
        "    ORIGINAL = ORIGINAL[:, :, :3] * alpha + (1 - alpha)\n",
        "\n",
        "# convert to black & white\n",
        "WHITE_THRESHOLD = 0.8\n",
        "ORIGINAL = np.where(ORIGINAL[:, :, :3].max(axis=2) > WHITE_THRESHOLD, 0, 1)\n",
        "\n",
        "# show the figure\n",
        "plt.imshow(ORIGINAL, cmap=plt.get_cmap(\"binary\"), interpolation=\"none\")\n",
        "plt.show()"
      ]
    },
    {
      "cell_type": "markdown",
      "metadata": {
        "id": "-p-TuNQ4a_Nl"
      },
      "source": [
        "All inputs and outputs should be 2d arrays that contain only zeros and ones (corresponding to black&white images).\n",
        "For example:"
      ]
    },
    {
      "cell_type": "code",
      "execution_count": 6,
      "metadata": {
        "colab": {
          "base_uri": "https://localhost:8080/"
        },
        "id": "aOd-OyHBa_Nl",
        "outputId": "4905f7e6-d061-4a5d-ef24-d60b31231d6c"
      },
      "outputs": [
        {
          "output_type": "execute_result",
          "data": {
            "text/plain": [
              "(668, 791)"
            ]
          },
          "metadata": {},
          "execution_count": 6
        }
      ],
      "source": [
        "ORIGINAL.shape"
      ]
    },
    {
      "cell_type": "code",
      "execution_count": 7,
      "metadata": {
        "colab": {
          "base_uri": "https://localhost:8080/"
        },
        "id": "ymwEqYw6a_Nm",
        "outputId": "e9726a91-f8d7-4be5-897b-6cbd3570fcdf"
      },
      "outputs": [
        {
          "output_type": "execute_result",
          "data": {
            "text/plain": [
              "{np.int64(0), np.int64(1)}"
            ]
          },
          "metadata": {},
          "execution_count": 7
        }
      ],
      "source": [
        "set(ORIGINAL.flatten())"
      ]
    },
    {
      "cell_type": "markdown",
      "metadata": {
        "id": "0MgvU2R5a_Nm"
      },
      "source": [
        "# The Noise Channel\n",
        "\n",
        "The following function should model a noise channel with probability of bit flip $f$.\n",
        "<span style=\"background-color: yellow\">Right now it does nothing -- can you fix this?</span>\n",
        "\n",
        "*Hint: Never modify an input parameter. If you really need to, make a copy (`output = input.copy()`) before you start modifying.*"
      ]
    },
    {
      "cell_type": "code",
      "execution_count": 19,
      "metadata": {
        "id": "K6tbWGSfa_Nn"
      },
      "outputs": [],
      "source": [
        "def noise_channel(f, input):\n",
        "  output = input.copy()\n",
        "\n",
        "  # generate random flips with rate \"f\"\n",
        "  flips = np.random.random(size=input.shape) < f\n",
        "\n",
        "  # probability of no flips = 1 - f\n",
        "  output[flips] = 1 - output[flips]\n",
        "\n",
        "  return output\n"
      ]
    },
    {
      "cell_type": "markdown",
      "metadata": {
        "id": "uinRwHQ3a_Nn"
      },
      "source": [
        "You can test your implementation with the following code:"
      ]
    },
    {
      "cell_type": "code",
      "execution_count": 20,
      "metadata": {
        "colab": {
          "base_uri": "https://localhost:8080/"
        },
        "id": "hgngY7Fya_Nn",
        "outputId": "eb028b01-a156-4616-acbf-eda302b572d1"
      },
      "outputs": [
        {
          "output_type": "stream",
          "name": "stdout",
          "text": [
            "10% bit flips expected\n",
            "10% bit flips detected\n"
          ]
        }
      ],
      "source": [
        "NOISE_RATE = 0.1\n",
        "output = noise_channel(NOISE_RATE, ORIGINAL)\n",
        "\n",
        "f_est = np.mean(output != ORIGINAL)\n",
        "print(f\"{NOISE_RATE:3.0%} bit flips expected\")\n",
        "print(f\"{f_est:3.0%} bit flips detected\")"
      ]
    },
    {
      "cell_type": "markdown",
      "metadata": {
        "id": "ouqPO0f6a_No"
      },
      "source": [
        "# The Repetition Code\n",
        "\n",
        "The following two functions should implement the repetition code $R_3$.\n",
        "<span style=\"background-color: yellow\">Right now these functions do nothing at all either -- can you fix this?</span>"
      ]
    },
    {
      "cell_type": "code",
      "execution_count": 79,
      "metadata": {
        "id": "tdTAC05wa_Np"
      },
      "outputs": [],
      "source": [
        "def encode(source):\n",
        "  # add a new axis to make each pixel a 1-element vector: shape (H, W) -> (H, W, 1)\n",
        "  source = source[:, :, np.newaxis]\n",
        "\n",
        "  # repeat each bit 3 times along the new axis: shape (H, W, 1) -> (H, W, 3)\n",
        "  # example: 0 -> [0, 0, 0], 1 -> [1, 1, 1]\n",
        "  encoded = np.repeat(source, 3, axis=2)\n",
        "\n",
        "  # flatten to restore 2D shape: (H, W, 3) -> (H, W*3)\n",
        "  encoded = encoded.reshape(source.shape[0], source.shape[1] * 3)\n",
        "\n",
        "  return encoded\n",
        "\n",
        "def decode(received):\n",
        "    # reshape the array so each triplet of bits corresponds to one original pixel:\n",
        "    # shape (H, W*3) -> (H, W, 3)\n",
        "    # example: [1, 0, 1, 0, 0, 0] -> [[1, 0, 1], [0, 0, 0]]\n",
        "    reshaped = received.reshape(received.shape[0], received.shape[1] // 3, 3)\n",
        "\n",
        "    # majority vote along last axis (axis=2) to decode each pixel:\n",
        "    # sum the 3 bits in each triplet, if >=2 -> 1, else -> 0\n",
        "    decoded = (np.sum(reshaped, axis=2) >= 2).astype(int)\n",
        "\n",
        "    return decoded\n"
      ]
    },
    {
      "cell_type": "markdown",
      "metadata": {
        "id": "jPkhiHl1a_Np"
      },
      "source": [
        "You can test your solution with the following code:"
      ]
    },
    {
      "cell_type": "code",
      "execution_count": 80,
      "metadata": {
        "colab": {
          "base_uri": "https://localhost:8080/",
          "height": 345
        },
        "id": "_nnACcS6a_Np",
        "outputId": "59c16ee9-bb42-496f-b2b1-835bbdc8f9d4"
      },
      "outputs": [
        {
          "output_type": "display_data",
          "data": {
            "text/plain": [
              "<Figure size 1200x1200 with 4 Axes>"
            ],
            "image/png": "[encoded data removed]"
          },
          "metadata": {}
        }
      ],
      "source": [
        "# simulate channel\n",
        "encoded = encode(ORIGINAL)\n",
        "\n",
        "received = noise_channel(NOISE_RATE, encoded)\n",
        "assert received.shape == encoded.shape, \"Noise channel should not change image size.\"\n",
        "\n",
        "decoded = decode(received)\n",
        "assert (\n",
        "    decoded.shape == ORIGINAL.shape\n",
        "), \"Decoder should produce image of same size as the original.\"\n",
        "\n",
        "\n",
        "# compute statistics\n",
        "f_raw = np.mean(received != encoded)\n",
        "f_dec = np.mean(decoded != ORIGINAL)\n",
        "\n",
        "# plot pictures\n",
        "fig, row = plt.subplots(1, 4, figsize=(12, 12))\n",
        "\n",
        "row[0].set_title(\"original\")\n",
        "row[0].imshow(ORIGINAL, cmap=plt.get_cmap(\"binary\"), interpolation=\"none\")\n",
        "\n",
        "row[1].set_title(\"encoded\")\n",
        "row[1].imshow(encoded, cmap=plt.get_cmap(\"binary\"), interpolation=\"none\")\n",
        "\n",
        "row[2].set_title(f\"received ({f_raw:.0%} error)\")\n",
        "row[2].imshow(received, cmap=plt.get_cmap(\"binary\"), interpolation=\"none\")\n",
        "\n",
        "row[3].set_title(f\"decoded ({f_dec:.0%} error)\")\n",
        "row[3].imshow(decoded, cmap=plt.get_cmap(\"binary\"), interpolation=\"none\")\n",
        "\n",
        "fig.tight_layout()"
      ]
    },
    {
      "cell_type": "markdown",
      "metadata": {
        "id": "xB_XnESOa_Nq"
      },
      "source": [
        "Does the output look similar to Figure 1.11 in [MacKay's book](http://www.inference.org.uk/itprnn/book.pdf)?"
      ]
    },
    {
      "cell_type": "markdown",
      "metadata": {
        "id": "xvLK9yo1a_Nq"
      },
      "source": [
        "**Bonus challenges (completely optional):**\n",
        "1. Change your code to implement the repetition code $R_5$.\n",
        "2. Change your code to implement the repetition code $R_k$ for general $k$. How does the error of the decoded image change as a function of $f$ and $k$?"
      ]
    },
    {
      "cell_type": "code",
      "source": [
        "# Bonus challenge question 1 (repetition code R5):\n",
        "\n",
        "def encode_R5(source):\n",
        "  # add a new axis to make each pixel a 1-element vector: shape (H, W) -> (H, W, 1)\n",
        "  source = source[:, :, np.newaxis]\n",
        "\n",
        "  # repeat each bit 3 times along the new axis: shape (H, W, 1) -> (H, W, 3)\n",
        "  encoded = np.repeat(source, 5, axis=2)\n",
        "\n",
        "  # flatten to restore 2D shape: (H, W, 5) -> (H, W*5)\n",
        "  encoded = encoded.reshape(source.shape[0], source.shape[1] * 5)\n",
        "\n",
        "  return encoded\n",
        "\n",
        "def decode_R5(received):\n",
        "    # reshape the array so each triplet of bits corresponds to one original pixel:\n",
        "    # shape (H, W*5) -> (H, W, 5)\n",
        "    reshaped = received.reshape(received.shape[0], received.shape[1] // 5, 5)\n",
        "\n",
        "    # majority vote along last axis (axis=2) to decode each pixel:\n",
        "    # sum the 5 bits in each triplet, if >=3 -> 1, else -> 0\n",
        "    decoded = (np.sum(reshaped, axis=2) >= 3).astype(int)\n",
        "\n",
        "    return decoded"
      ],
      "metadata": {
        "id": "JGOSiZ_BMOOp"
      },
      "execution_count": 82,
      "outputs": []
    },
    {
      "cell_type": "code",
      "source": [
        "# check from R3 repurposed for the R5 code\n",
        "\n",
        "# simulate channel\n",
        "encode_R5 = encode_R5(ORIGINAL)\n",
        "\n",
        "received = noise_channel(NOISE_RATE, encode_R5)\n",
        "assert received.shape == encode_R5.shape, \"Noise channel should not change image size.\"\n",
        "\n",
        "decode_R5 = decode_R5(received)\n",
        "assert (\n",
        "    decode_R5.shape == ORIGINAL.shape\n",
        "), \"Decoder should produce image of same size as the original.\"\n",
        "\n",
        "\n",
        "# compute statistics\n",
        "f_raw = np.mean(received != encode_R5)\n",
        "f_dec = np.mean(decode_R5 != ORIGINAL)\n",
        "\n",
        "# plot pictures\n",
        "fig, row = plt.subplots(1, 4, figsize=(12, 12))\n",
        "\n",
        "row[0].set_title(\"original\")\n",
        "row[0].imshow(ORIGINAL, cmap=plt.get_cmap(\"binary\"), interpolation=\"none\")\n",
        "\n",
        "row[1].set_title(\"encoded\")\n",
        "row[1].imshow(encode_R5, cmap=plt.get_cmap(\"binary\"), interpolation=\"none\")\n",
        "\n",
        "row[2].set_title(f\"received ({f_raw:.0%} error)\")\n",
        "row[2].imshow(received, cmap=plt.get_cmap(\"binary\"), interpolation=\"none\")\n",
        "\n",
        "row[3].set_title(f\"decoded ({f_dec:.0%} error)\")\n",
        "row[3].imshow(decode_R5, cmap=plt.get_cmap(\"binary\"), interpolation=\"none\")\n",
        "\n",
        "fig.tight_layout()"
      ],
      "metadata": {
        "id": "w5cRMSCvMxPd",
        "outputId": "adb09cb6-34d1-49ed-b1e3-dc71e677521b",
        "colab": {
          "base_uri": "https://localhost:8080/",
          "height": 345
        }
      },
      "execution_count": 83,
      "outputs": [
        {
          "output_type": "display_data",
          "data": {
            "text/plain": [
              "<Figure size 1200x1200 with 4 Axes>"
            ],
            "image/png": "[encoded data removed]"
          },
          "metadata": {}
        }
      ]
    }
  ],
  "metadata": {
    "kernelspec": {
      "display_name": "Python 3 (ipykernel)",
      "language": "python",
      "name": "python3"
    },
    "language_info": {
      "codemirror_mode": {
        "name": "ipython",
        "version": 3
      },
      "file_extension": ".py",
      "mimetype": "text/x-python",
      "name": "python",
      "nbconvert_exporter": "python",
      "pygments_lexer": "ipython3",
      "version": "3.9.4"
    },
    "colab": {
      "provenance": []
    }
  },
  "nbformat": 4,
  "nbformat_minor": 0
}